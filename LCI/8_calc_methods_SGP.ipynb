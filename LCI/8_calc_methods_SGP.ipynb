{
 "cells": [
  {
   "cell_type": "markdown",
   "metadata": {},
   "source": [
    "# Power Generation Emission Calculation Methods\n",
    "\n",
    "This notebook contains the methodologies in calculating the emission from Power Generation in order to develop Life Cycle Inventories for Power Generation.\n",
    "\n",
    "The different methodologies are from:\n",
    "\n",
    " No. | Country | Pub. Yr |\n",
    " -- | ------- | --------- |\n",
    " 1  | Japan | 2000 |\n",
    " 2. | Canada | 2001 |\n",
    " 3. | Brazil | 2003 |\n",
    " 4. | Indonesia | 2003 |\n",
    " 5. | Korea | 2004 |\n",
    " 6. | China | 2007 |\n",
    " 7. | Thailand | 2008 |\n",
    " 8. | Singapore | 2010 |\n",
    "\n",
    "\n",
    "\n",
    "\n"
   ]
  },
  {
   "cell_type": "markdown",
   "metadata": {},
   "source": [
    "## 8.1 Stages in Singapore LCI Development\n",
    "\n",
    "### 8.1.1 Power sources\n",
    "\n",
    "* _cradle-to-gate_ 1 kg of:\n",
    "    1) Natural Gas <br>\n",
    "    2) Fuel Oil, <br>\n",
    "    3) Diesel\n",
    "\n",
    "### 8.1.2 Calculate total air emission of electricity generations\n",
    "\n",
    "* 1 MWh of electricity generated from:\n",
    "\n",
    "- NGCC power plants <br>\n",
    "- Fuel oil-fired steam power plants <br>\n",
    "- OCGT (Diesel oil-fired Open Cycle Gas Turbine) power plants <br>\n",
    "- Incineration plants <br>\n",
    "\n",
    "### 8.1.3 Trasmitted to the grid\n",
    "\n",
    "- Cradle-to-gate of 1 MWh of electricity delivered to the national grid without any loss<br>\n",
    "- Cradle-to-gate of 1 MWh of electricity delivered to the national grid with an estimated 2.5% transmission loss from the national grid<br>\n",
    "- Gate-to-gate of 1 MWh of electricity delivered to the national grid without any loss<br>\n",
    "- Gate-to-gate of 1 MWh of electricity delivered to the national grid with an estimated 2.5% transmission loss from the national grid.\n"
   ]
  },
  {
   "cell_type": "markdown",
   "metadata": {},
   "source": [
    "Using JP and IDN calculation method for: <br>\n",
    "    $CO_2$ <br>\n",
    "    $CO$ <br>\n",
    "    $N_2O$ <br>\n",
    "    $NO_x$ <br>\n",
    "    $SO_x$ <br>\n",
    "    $VOC$ <br>\n",
    "    $PM$ <br>"
   ]
  },
  {
   "cell_type": "code",
   "execution_count": null,
   "metadata": {},
   "outputs": [],
   "source": []
  }
 ],
 "metadata": {
  "kernelspec": {
   "display_name": "Python 3",
   "language": "python",
   "name": "python3"
  },
  "language_info": {
   "codemirror_mode": {
    "name": "ipython",
    "version": 3
   },
   "file_extension": ".py",
   "mimetype": "text/x-python",
   "name": "python",
   "nbconvert_exporter": "python",
   "pygments_lexer": "ipython3",
   "version": "3.8.2"
  }
 },
 "nbformat": 4,
 "nbformat_minor": 4
}
