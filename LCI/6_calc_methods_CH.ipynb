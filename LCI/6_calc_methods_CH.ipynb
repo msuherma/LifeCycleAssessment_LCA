{
 "cells": [
  {
   "cell_type": "markdown",
   "metadata": {},
   "source": [
    "# Power Generation Emission Calculation Methods\n",
    "\n",
    "This notebook contains the methodologies in calculating the emission from Power Generation in order to develop Life Cycle Inventories for Power Generation.\n",
    "\n",
    "The different methodologies are from:\n",
    "\n",
    " No. | Country | Pub. Yr |\n",
    " -- | ------- | --------- |\n",
    " 1  | Japan | 2000 |\n",
    " 2. | Canada | 2001 |\n",
    " 3. | Brazil | 2003 |\n",
    " 4. | Indonesia | 2003 |\n",
    " 5. | Korea | 2004 |\n",
    " 6. | China | 2007 |\n",
    " 7. | Thailand | 2008 |\n",
    " 8. | Singapore | 2010 |\n",
    "\n",
    "\n"
   ]
  },
  {
   "cell_type": "markdown",
   "metadata": {},
   "source": [
    "## 6.1 $CO_2$\n",
    "\n",
    "$$E = 3.67FQk\\alpha$$\n",
    "\n",
    "$E$ : CO_2 emissions [kg-CO2;<br>\n",
    "$F$ : amount of fuel consumption [kg or m3];<br>\n",
    "$Q$ : calorific values of fuels [MJ/kg or MJ/m^3];<br>\n",
    "$k$ : carbon emission coefficient for fuels [kg-C/MJ]; and<br>\n",
    "$\\alpha$ : carbon oxidation coefficient.<br>"
   ]
  },
  {
   "cell_type": "markdown",
   "metadata": {},
   "source": [
    "## 6.2 $SO_2$\n",
    "\n",
    "$$E = 2FS\\alpha(1 – rf)$$\n",
    "\n",
    "\n",
    "$E$: SO_2 emissions (kg-SO2);<br>\n",
    "$F$: amount of fuel consumption (kg or m3);<br>\n",
    "$S$: total sulfur content of fuels consumed (wt% or kg/m3);<br>\n",
    "$\\alpha$: emission rate for certain fuel;<br>\n",
    "$r$: cover rate of generator sets equipped with desulfurizers;\n",
    "and <br>\n",
    "$f$: average desulfurization efficiency<br>"
   ]
  },
  {
   "cell_type": "markdown",
   "metadata": {},
   "source": [
    "## 6.3 $NO_x$\n",
    "\n",
    "$$E = F\\alpha(1 – rf)$$\n",
    "\n",
    "$E$: NO_x emissions (kg-NOx);<br>\n",
    "$F$: amount of fuel consumption (kg or m3);<br>\n",
    "$\\alpha$: emission rate for certain fuel;<br>\n",
    "$r$: cover rate of generator sets equipped with desulfurizers;\n",
    "and <br>\n",
    "$f$: average desulfurization efficiency<br>\n"
   ]
  },
  {
   "cell_type": "markdown",
   "metadata": {},
   "source": [
    "## 6.4 CO, CH_4 and NMVOC\n",
    "\n",
    "$$E_i = FQ\\alpha_i$$\n",
    "\n",
    "$E$: emissions of gas i (kg-i);<br>\n",
    "$F_i$: amount of fuel consumption (kg or m3);<br>\n",
    "$Q$: heat capacity of certain fuel (MJ/kg or MJ/m3); and<br>\n",
    "$\\alpha_i$: emission factor for gas i (kg/MJ)\n"
   ]
  },
  {
   "cell_type": "markdown",
   "metadata": {},
   "source": [
    "## 6.5 Dust\n",
    "\n",
    "$$ E = F\\alpha(\\frac{A}{100} + \\frac{Qq}{4.18*8100*100})(1 - c\\eta)(1 - rf_d)$$\n",
    "\n",
    "$E$: dust emissions (kg-dust);<br>\n",
    "$F$: amount of fuel consumption (kg or m3);<br>\n",
    "$\\alpha$: the ratio of ash in dust to the total ash in the fuel;<br>\n",
    "$A$: the monitoring ash content of fuel (% or g/m3);<br>\n",
    "$Q$: the heat capacity of certain fuel (MJ/kg or MJ/m3);<br>\n",
    "$q$: the heat loss of mechanically incomplete combustion (%);<br>\n",
    "$c$: cover rate of generator sets equipped with precipitators;<br>\n",
    "$\\eta$: average precipitating efficiency of precipitators;<br>\n",
    "$r$: cover rate of generator sets equipped with denitrators;and<br>\n",
    "$f_d$: average precipitating efficiency of desulfurizers.<br>"
   ]
  },
  {
   "cell_type": "markdown",
   "metadata": {},
   "source": [
    "## 6.6 Heavy metal elements\n",
    "Heavy metal elements (Ni, V, As, Cd, Cr, Hg, Pb, and Zn)\n",
    "\n",
    "$$ E = Fm_i\\alpha_i(1 - c\\eta_i)(1 - rf_i)$$\n",
    "\n",
    "\n",
    "$E$: emissions of heavy metal i (kg-i);<br>\n",
    "$F_i$: amount of fuel consumption (kg or m3);<br>\n",
    "$m_i$: heavy metal i content of fuels(wt% or g/m3);<br>\n",
    "$\\alpha_i$: gasification conversion rate of heavy metal i;<br>\n",
    "$c$: cover rate of generator sets equipped with precipitators;<br>\n",
    "$\\eta_i$: trap ratio of heavy metal i by precipitators;<br>\n",
    "$r$: cover rate of generator sets equipped with denitrators;and<br>\n",
    "$f_i$: trap ratio of heavy metal i by desulfurizers.<br>"
   ]
  },
  {
   "cell_type": "code",
   "execution_count": null,
   "metadata": {},
   "outputs": [],
   "source": []
  }
 ],
 "metadata": {
  "kernelspec": {
   "display_name": "Python 3",
   "language": "python",
   "name": "python3"
  },
  "language_info": {
   "codemirror_mode": {
    "name": "ipython",
    "version": 3
   },
   "file_extension": ".py",
   "mimetype": "text/x-python",
   "name": "python",
   "nbconvert_exporter": "python",
   "pygments_lexer": "ipython3",
   "version": "3.8.2"
  }
 },
 "nbformat": 4,
 "nbformat_minor": 4
}
