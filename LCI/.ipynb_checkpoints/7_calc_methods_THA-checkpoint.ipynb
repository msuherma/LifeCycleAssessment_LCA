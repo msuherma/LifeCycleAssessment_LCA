{
 "cells": [
  {
   "cell_type": "markdown",
   "metadata": {},
   "source": [
    "# Power Generation Emission Calculation Methods\n",
    "\n",
    "This notebook contains the methodologies in calculating the emission from Power Generation in order to develop Life Cycle Inventories for Power Generation.\n",
    "\n",
    "The different methodologies are from:\n",
    "\n",
    " No. | Country | Pub. Yr |\n",
    " -- | ------- | --------- |\n",
    " 1  | Japan | 2000 |\n",
    " 2. | Canada | 2001 |\n",
    " 3. | Brazil | 2003 |\n",
    " 4. | Indonesia | 2003 |\n",
    " 5. | Korea | 2004 |\n",
    " 6. | China | 2007 |\n",
    " 7. | Thailand | 2008 |\n",
    " 8. | Singapore | 2010 |\n",
    "\n",
    "\n",
    "\n"
   ]
  },
  {
   "cell_type": "markdown",
   "metadata": {},
   "source": [
    "LCI was carried out according to the framework and procedures of\n",
    "ISO14040 and ISO14041.\n",
    "\n",
    "Functional Unit (FU) based on the ISO, it is 1 MK of fuel and 1 kWh of electricity produced."
   ]
  },
  {
   "cell_type": "markdown",
   "metadata": {},
   "source": [
    "## Thermal Efficiency\n",
    "\n",
    "$$\\eta_{th} = \\frac{EO}{EI} * 100$$\n",
    "\n",
    "$\\eta_{th}$ = Thermal Efficiency; <br>\n",
    "$EO$ = Energy Output is generated electricity [kWh] multiplied with the net calorific value of electricity [Btu/kWh];<br>\n",
    "$EI$ = Energy Input is heat consumption for direct combustion. It is calculated from the amount of fuel multiplied by its net calorific value per unit.\n",
    "\n"
   ]
  },
  {
   "cell_type": "markdown",
   "metadata": {},
   "source": [
    "## Capacity Factor\n",
    "\n",
    "$$f_{cap} = \\frac{El_{gen}}{cap_{ins} * 10^3 * 365 * 24} * 100$$\n",
    "\n",
    "$f_{cap}$ = Capacity Factor [%], <br>\n",
    "$El_{gen}$ = Generated Electricity [kWh], <br>\n",
    "$cap_{inst}$ = Installed Capacity [MW]\n"
   ]
  },
  {
   "cell_type": "markdown",
   "metadata": {},
   "source": [
    "## Total Life Cycle GHG Emission\n",
    "\n",
    "$$GHG_{LC} = \\sum{\\substack{i}}$$"
   ]
  },
  {
   "cell_type": "code",
   "execution_count": null,
   "metadata": {},
   "outputs": [],
   "source": []
  }
 ],
 "metadata": {
  "kernelspec": {
   "display_name": "Python 3",
   "language": "python",
   "name": "python3"
  },
  "language_info": {
   "codemirror_mode": {
    "name": "ipython",
    "version": 3
   },
   "file_extension": ".py",
   "mimetype": "text/x-python",
   "name": "python",
   "nbconvert_exporter": "python",
   "pygments_lexer": "ipython3",
   "version": "3.8.2"
  }
 },
 "nbformat": 4,
 "nbformat_minor": 4
}
