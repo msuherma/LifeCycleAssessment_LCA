{
 "cells": [
  {
   "cell_type": "markdown",
   "metadata": {},
   "source": [
    "# Power Generation Emission Calculation Methods\n",
    "\n",
    "This notebook contains the methodologies in calculating the emission from Power Generation in order to develop Life Cycle Inventories for Power Generation.\n",
    "\n",
    "The different methodologies are from:\n",
    "\n",
    " No. | Country | Pub. Yr |\n",
    " -- | ------- | --------- |\n",
    " 1  | Japan | 2000 |\n",
    " 2. | Canada | 2001 |\n",
    " 3. | Brazil | 2003 |\n",
    " 4. | Indonesia | 2003 |\n",
    " 5. | Korea | 2004 |\n",
    " 6. | China | 2007 |\n",
    " 7. | Thailand | 2008 |\n",
    " 8. | Singapore | 2010 |\n",
    "\n",
    "\n"
   ]
  },
  {
   "cell_type": "markdown",
   "metadata": {},
   "source": [
    "## 4.1 CO_2\n",
    "\n",
    "$$EI_{Elec,CO_2} = \\frac{\\sum F_{CO_2,i} * H_i * G_i}{E_{Elec,Grid}}$$\n",
    "\n",
    "$EI_{Elec,CO_2}$ = emission intensity [kg-CO_2/kWh]<br>"
   ]
  },
  {
   "cell_type": "markdown",
   "metadata": {},
   "source": [
    "## 4.2 $SO_2$\n",
    "\n",
    "$$EI_{Elec,SO_2} = \\frac{\\sum C_{S,i} * \\frac{M_{SO_4}}{M_s} * (1 - \\eta_{DeSO_2}) * \\frac{P_{DeSO_2}}{P_{Total}}* G_i}{E_{Elec,Grid}}$$"
   ]
  },
  {
   "cell_type": "markdown",
   "metadata": {},
   "source": [
    "# 4.3 NO_x\n",
    "\n",
    "$$EI_{Elec,NO_x} = \\frac{\\sum F_{NO_x,i} * H_i * (1 - \\eta_{DeNO_x,i}) * \\frac{P_{DeSO_2}}{P_{Total}}* G_i}{E_{Elec,Grid}}$$"
   ]
  },
  {
   "cell_type": "code",
   "execution_count": null,
   "metadata": {},
   "outputs": [],
   "source": [
    "## Dust and heavy metals (DHM)\n",
    "\n",
    "$$EI_{Elec,DHM,j} = \\frac{\\sum C_{j,i} * (1 - \\eta_{Filter}) \\frac{P_{Filter}}{P_{Total}} * (1 - \\eta_{DeSO_2}) * \\frac{P_{DeSO_2}}{P_{Total}}* G_i}{E_{Elec,Grid}}$$"
   ]
  }
 ],
 "metadata": {
  "kernelspec": {
   "display_name": "Python 3",
   "language": "python",
   "name": "python3"
  },
  "language_info": {
   "codemirror_mode": {
    "name": "ipython",
    "version": 3
   },
   "file_extension": ".py",
   "mimetype": "text/x-python",
   "name": "python",
   "nbconvert_exporter": "python",
   "pygments_lexer": "ipython3",
   "version": "3.8.2"
  }
 },
 "nbformat": 4,
 "nbformat_minor": 4
}
