{
 "cells": [
  {
   "cell_type": "markdown",
   "metadata": {},
   "source": [
    "# Power Generation Emission Calculation Methods\n",
    "\n",
    "This notebook contains the methodologies in calculating the emission from Power Generation in order to develop Life Cycle Inventories for Power Generation.\n",
    "\n",
    "The different methodologies are from:\n",
    "\n",
    " No. | Country | Pub. Yr |\n",
    " -- | ------- | --------- |\n",
    " 1.0. | Japan | 2000 |\n",
    " 2. | Canada | 2001 |\n",
    " 3. | Brazil | 2003 |\n",
    " 4. | Indonesia | 2003 |\n",
    " 5. | Korea | 2004 |\n",
    " 6. | China | 2007 |\n",
    " 7. | Thailand | 2008 |\n",
    " 8. | Singapore | 2010 |\n"
   ]
  },
  {
   "cell_type": "markdown",
   "metadata": {},
   "source": [
    "## 1. Japan\n",
    "Calculating Direct Emission"
   ]
  },
  {
   "cell_type": "code",
   "execution_count": 2,
   "metadata": {},
   "outputs": [],
   "source": [
    "import sympy as sp\n",
    "import numpy as np"
   ]
  },
  {
   "cell_type": "code",
   "execution_count": 6,
   "metadata": {},
   "outputs": [],
   "source": [
    "from sympy.interactive import printing\n",
    "printing.init_printing(use_latex=True)\n",
    "from sympy import *\n",
    "from numpy import linalg"
   ]
  },
  {
   "cell_type": "code",
   "execution_count": 4,
   "metadata": {},
   "outputs": [],
   "source": [
    "x,y = sp.symbols('x y')"
   ]
  },
  {
   "cell_type": "code",
   "execution_count": 7,
   "metadata": {},
   "outputs": [
    {
     "data": {
      "text/plain": [
       "'\\\\int\\\\limits_{0}^{\\\\pi} \\\\cos^{2}{\\\\left(x \\\\right)}\\\\, dx'"
      ]
     },
     "execution_count": 7,
     "metadata": {},
     "output_type": "execute_result"
    }
   ],
   "source": [
    "latex(Integral(cos(x)**2, (x,0,pi)))"
   ]
  },
  {
   "cell_type": "markdown",
   "metadata": {},
   "source": [
    "### 1.1 $CO_2$\n",
    "\n",
    "$$CO_2 em_{int} = CO_2 em_{coeff} * f$$\n",
    "\n",
    "$CO_2 em_{int}$ = CO_2 emission intensity [kg-CO_2/kWh] <br>\n",
    "$CO_2 em_{coeff}$ = CO_2 emission coefficient [kg-CO_2/kg-fuel]<br>\n",
    "$f$ =  amount of fuel consumed to produce 1 kWh of electricity [kg-fuel/kWh]<br>\n",
    "\n",
    "\n",
    "$$Coal CO_2 em_{coeff} = 0.201 + 0.087 * Coal_{NCV}$$\n",
    "\n",
    "$Coal CO_2 em_{coeff}$ = CO_2 emission coefficient of coal [kg-CO_2/kg-coal]<br>\n",
    "$Coal_{NCV}$ = net calorific value of coal [MJ/kg-coal]"
   ]
  },
  {
   "cell_type": "markdown",
   "metadata": {},
   "source": [
    "### 1.2 $SO_2$\n",
    "\n",
    "$$SO_2 em_{int} = \\frac{TFC * TSC * (M_{SO2}/M_s)*(1- E_{t,SO2}*(P_{equipped}/P_{total})}{(NEP}$$\n",
    "\n",
    "TFC = Total fuel consumption in each power station, 1997 [kg]<br>\n",
    "TSC = <br>\n",
    "$M_{SO2}$ = <br>\n",
    "M_s = <br>\n",
    "$E_{t,SO2}$ = <br>\n",
    "$P_{equipped}$ = <br>\n",
    "$P_{total}$ = <br>\n",
    "NEP = <br>"
   ]
  },
  {
   "cell_type": "markdown",
   "metadata": {},
   "source": [
    "### 1.3 $NO_x$\n",
    "\n",
    "$$ NO_x em_{int} = \\frac{TLHF * (NO*FC) * (1- E_{t_NOx} * P_{equipped}/P_{total})}{NEP}$$\n",
    "\n",
    "$NO_x em_{int}$ = <br>\n",
    "$TLHF$ <br>\n",
    "$NO$ = <br>\n",
    "$FC$ = <br>\n",
    "$E_{t_NOx}$ = <br>\n",
    "$P_{equipped}$ = <br>\n",
    "$P_{total}$ = <br>\n",
    "$NEP$= <br>"
   ]
  },
  {
   "cell_type": "markdown",
   "metadata": {},
   "source": [
    "### 1.4 Non-methane volatile organic compound (NMVOC), CH_4, CO\n",
    "\n",
    "from literatures [14 - 15]\n",
    "\n",
    "$$ em_{int} = \\frac{em_f * NHV_{total}}{NEP}$$\n",
    "\n",
    "$em_{int}$ = <br>\n",
    "$em_f$ = <br>\n",
    "$NHV_{total}$ = <br>\n",
    "$NEP$ <br>"
   ]
  },
  {
   "cell_type": "markdown",
   "metadata": {},
   "source": [
    "### 2.5 Dust (all particulates)\n",
    "\n",
    "#### 2.5.a Dust in Oil Powered Stations\n",
    "\n",
    "$$dust = 0.38 + 1.25 * S_{oil}$$\n",
    "\n",
    "$dust$ = dust formation [g/liter-oil consumed in oil power station]<br>\n",
    "$S_{oil}$ = sulfur content in oil [wt%] <br>\n",
    "This paper was calculated using the average vaule of $S_{oil}$ 0.81 wt% based on Ministry of International Trade and Industry, Agency of Natural Resources and Energy (1999).\n",
    "\n",
    "#### 2.5.a.1 Desulfurizer in Power Station\n",
    "\n",
    "When not equipped with desulfurizer, using this equation:\n",
    "\n",
    "$$dust = \\frac{1.25 * SCO * TOC * (1- 0.8)}{NEP}$$\n",
    "\n",
    "When equipped with desulfurizer, using this equation:\n",
    "\n",
    "$$dust = \\frac{1.25 * SCO * TOC * (1- 0.8) * (1 - 0.9)}{NEP}$$\n",
    "\n",
    "\n",
    "#### 2.5.b Dust in Coal Powered Stations \n",
    "\n",
    "Not equipped with desulfurizer\n",
    "$$dust = \\frac{AshC * TCC * 0.5 * (1- 0.995)}{NEP}$$\n",
    "\n",
    "Equipped with desulfurizer\n",
    "$$dust = \\frac{AshC * TCC * 0.5 * (1- 0.995) * (1-0.9)}{NEP}$$"
   ]
  },
  {
   "cell_type": "markdown",
   "metadata": {},
   "source": [
    "### 1.6 Heavy Metals is taken from [3,7,8]\n",
    "\n",
    "Country | As | Cd | Or | Hg | Ni | Pb | V | Zn |\n",
    "--------| -- | -- | -- | -- | -- | -- | - | -- |\n",
    "Australia| 2 | 0.1 | 10 | 0.1 | 10 | 10 | 20 | 20 |\n",
    "Canada | 10 | 0.5 | 20 | 0.1 | 20 | 30 | 40 | 50 |\n",
    "China | 5 |0.5 |30 |0.1 |50 |40 |50 |50|\n",
    "Indonesia | 10 |0.5| 20| 0.1| 20 |40 |40| 50|\n",
    "Japan | 10 |0.5| 20 |0.1| 20 |40 |40 |50|\n",
    "USA | 15 |0.5| 20| 0.2| 20 |15| 35| 20|\n",
    "South Africa |3 |0.01 |100 |0.2| 20| 10| 50| 30|\n",
    "Russia | 10| 0.5| 20| 0.1| 20| 40| 40| 50|"
   ]
  },
  {
   "cell_type": "code",
   "execution_count": null,
   "metadata": {},
   "outputs": [],
   "source": []
  },
  {
   "cell_type": "code",
   "execution_count": null,
   "metadata": {},
   "outputs": [],
   "source": [
    "\n",
    "\n",
    "\n"
   ]
  },
  {
   "cell_type": "code",
   "execution_count": null,
   "metadata": {},
   "outputs": [],
   "source": []
  },
  {
   "cell_type": "markdown",
   "metadata": {},
   "source": [
    "## Development of LCI_s for Electricity Grid Mixes in Each Electric Company\n",
    "\n",
    "$$ EID = \\frac {EIP * NEP}{(NEP - LP - LT) * (1-(LD/100))} $$\n",
    "\n",
    "EID = emission intensity of each substance based on net electricity distributed to customers by each electric company [kg/kWh]<br>\n",
    "EIP = emission intensity of each substance based on net electriciy production [kg/kWH]<br>\n",
    "NEP = net electricity production in each power station [kWh] <br>\n",
    "LP = loss of electricity in pumping [kWh]<br>\n",
    "LT = loss of electricity in transformer [kWh]<br>\n",
    "LD = distribution loss [%]<br>"
   ]
  },
  {
   "cell_type": "code",
   "execution_count": null,
   "metadata": {},
   "outputs": [],
   "source": []
  }
 ],
 "metadata": {
  "kernelspec": {
   "display_name": "Python 3",
   "language": "python",
   "name": "python3"
  },
  "language_info": {
   "codemirror_mode": {
    "name": "ipython",
    "version": 3
   },
   "file_extension": ".py",
   "mimetype": "text/x-python",
   "name": "python",
   "nbconvert_exporter": "python",
   "pygments_lexer": "ipython3",
   "version": "3.8.2"
  }
 },
 "nbformat": 4,
 "nbformat_minor": 4
}
