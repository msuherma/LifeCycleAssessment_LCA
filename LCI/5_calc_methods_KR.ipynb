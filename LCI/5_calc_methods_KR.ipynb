{
 "cells": [
  {
   "cell_type": "markdown",
   "metadata": {},
   "source": [
    "# Power Generation Emission Calculation Methods\n",
    "\n",
    "This notebook contains the methodologies in calculating the emission from Power Generation in order to develop Life Cycle Inventories for Power Generation.\n",
    "\n",
    "The different methodologies are from:\n",
    "\n",
    " No. | Country | Pub. Yr |\n",
    " -- | ------- | --------- |\n",
    " 1  | Japan | 2000 |\n",
    " 2. | Canada | 2001 |\n",
    " 3. | Brazil | 2003 |\n",
    " 4. | Indonesia | 2003 |\n",
    " 5. | Korea | 2004 |\n",
    " 6. | China | 2007 |\n",
    " 7. | Thailand | 2008 |\n",
    " 8. | Singapore | 2010 |\n",
    "\n"
   ]
  },
  {
   "cell_type": "markdown",
   "metadata": {},
   "source": [
    "## 5.1 $SO_x$\n",
    "\n",
    "$$ SO_x [kg] = Q * EF * S * (1 - M) * [0.1] $$ \n",
    "\n",
    "Q = fuel quantity [ton] <br>\n",
    "EF = emission factor based on US EPA <br>\n",
    "S = fraction of sulfur content of fuel <br>\n",
    "M = fraction of moisture content of fuel<br>\n",
    "[0.1] is only applied to power plant equipped with desulfurization facility"
   ]
  },
  {
   "cell_type": "markdown",
   "metadata": {},
   "source": [
    "## 5.2 PM\n",
    "### 5.2.1 Coal: PM emission from coal power plant\n",
    "\n",
    "$$ dust [ton] = Q * (1-M) * Ash * \\frac{1}{(1-UF)} * 0.8 * (1-CE)* [0.4]$$\n",
    "Q = fuel quantity [ton] <br>\n",
    "M = fraction of moisture content of fuel<br>\n",
    "Ash = fraction of ash content<br>\n",
    "UF = fraction of uncombusted fuel <br>\n",
    "CE = fraction of control efficiency <br>\n",
    "[0.4] is only applied to power plant equipped with desulfurization facility\n",
    "\n",
    "### 5.2.2 Oil : PM emission from oil power plant\n",
    "\n",
    "$$ PM [ton] = Q * ((EF_a * S) + EF_b) * (1 - CE) * [0.4]$$\n",
    "Q = fuel quantity [kl] <br>\n",
    "EF_a = the emission factor $a$ of US EPA <br>\n",
    "EF_b = the emission factor $b$ of US EPA <br>\n",
    "CE = fraction of control efficiency <br>\n",
    "[0.4] is only applied to power plant equipped with desulfurization facility"
   ]
  },
  {
   "cell_type": "markdown",
   "metadata": {},
   "source": [
    "## 5.3 $CO_2$: it is calculated using the equation proposed by IPCC.\n",
    "\n",
    "$$CO_2 [ton-C] = Q * HC * \\frac{EF}{10^9} * FCO$$\n",
    "\n",
    "Q = fuel quantity [kl] <br>\n",
    "HC = heat content of fuel [J/kg] <br>\n",
    "EF = the emission factor from IPCC [ton-C/TJ]<br>\n",
    "FCO = fraction of carbon oxidized. Average combustion efficiency of coal, oil, and natural gas was 0.98, 0.99, and 0.995, respectively [16]."
   ]
  },
  {
   "cell_type": "code",
   "execution_count": null,
   "metadata": {},
   "outputs": [],
   "source": []
  }
 ],
 "metadata": {
  "kernelspec": {
   "display_name": "Python 3",
   "language": "python",
   "name": "python3"
  },
  "language_info": {
   "codemirror_mode": {
    "name": "ipython",
    "version": 3
   },
   "file_extension": ".py",
   "mimetype": "text/x-python",
   "name": "python",
   "nbconvert_exporter": "python",
   "pygments_lexer": "ipython3",
   "version": "3.8.2"
  }
 },
 "nbformat": 4,
 "nbformat_minor": 4
}
