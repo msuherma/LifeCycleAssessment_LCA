{
 "cells": [
  {
   "cell_type": "markdown",
   "metadata": {},
   "source": [
    "# calc_emission v.2 \n",
    "This is used when the final demand matrix is not created in csv, \n",
    "The only matrices necessary to be provided are:\n",
    "* technology matrix\n",
    "* intervention matrix"
   ]
  },
  {
   "cell_type": "code",
   "execution_count": 1,
   "metadata": {},
   "outputs": [],
   "source": [
    "import os\n",
    "import glob\n",
    "\n",
    "import pandas as pd\n",
    "import numpy as np"
   ]
  },
  {
   "cell_type": "code",
   "execution_count": 3,
   "metadata": {},
   "outputs": [
    {
     "name": "stdout",
     "output_type": "stream",
     "text": [
      "/Users/cakherman/OneDrive - purdue.edu/github/github-msuherma-mac/LifeCycleAssessment_LCA/notebook\n"
     ]
    }
   ],
   "source": [
    "!pwd"
   ]
  },
  {
   "cell_type": "code",
   "execution_count": 5,
   "metadata": {},
   "outputs": [],
   "source": [
    "try:\n",
    "    import common\n",
    "    DATA = common.dataDirectory()\n",
    "except ImportError:\n",
    "    DATA = Path().resolve() / 'data'"
   ]
  },
  {
   "cell_type": "code",
   "execution_count": 6,
   "metadata": {},
   "outputs": [],
   "source": [
    "techMat = DATA / 'hw6_tech_matrix.csv'\n",
    "fdQ2 = DATA / 'hw6_fd_q2.csv'\n",
    "fdQ5 = DATA / 'hw6_fd_q5.csv'\n",
    "intervMat= DATA / 'interv_mat.csv'"
   ]
  },
  {
   "cell_type": "code",
   "execution_count": 8,
   "metadata": {},
   "outputs": [],
   "source": [
    "def csvToMatrix(fileName):\n",
    "    fileName = pd.read_csv(fileName)\n",
    "    fileName = pd.DataFrame(fileName).fillna(0)\n",
    "    fileName = fileName.apply(pd.to_numeric, errors='coerce').dropna(axis='columns').to_numpy(dtype=float,na_value=0)\n",
    "    return fileName"
   ]
  },
  {
   "cell_type": "code",
   "execution_count": 9,
   "metadata": {},
   "outputs": [],
   "source": [
    "techMat=csvToMatrix(techMat)\n",
    "intervMat=csvToMatrix(intervMat)"
   ]
  },
  {
   "cell_type": "code",
   "execution_count": 23,
   "metadata": {},
   "outputs": [],
   "source": [
    "def create_fdemand_matrix(fdemand_val, nrows, technology_matrix):\n",
    "    '''\n",
    "    create_fdemand_matrix is a function to create final demand matrix;\n",
    "    ARGUMENTS:\n",
    "        fdemand_val = value of final demand;\n",
    "        nrows = number of rows, can be taken from the technology matrix m-dimension\n",
    "        \n",
    "    '''\n",
    "    nrows = technology_matrix.shape[0] # to make sure the nrows matches the m-dim of tech matrix\n",
    "    fdemand_val = fdemand_val #taking the fdemand value\n",
    "    fdemand_mat = np.array([fdemand_val]) #create 1x1 matrix contains the demand value\n",
    "    fdemand_matrix = np.zeros((nrows-1,1)) #create nrows-1 zeros matrix\n",
    "    fdemand_matrix = np.vstack([fdemand_mat, fdemand_matrix]) #stack fdemand_val and fdemand_matrix vertically\n",
    "    return fdemand_matrix"
   ]
  },
  {
   "cell_type": "code",
   "execution_count": 28,
   "metadata": {},
   "outputs": [],
   "source": [
    "fdQ2=create_fdemand_matrix(1, 41, techMat)\n",
    "fdQ5=create_fdemand_matrix(144000, 41,techMat)"
   ]
  },
  {
   "cell_type": "code",
   "execution_count": 30,
   "metadata": {},
   "outputs": [],
   "source": [
    "def calc_emission(technology_matrix, final_demand, intervention_matrix):\n",
    "    '''\n",
    "    calc_emission\n",
    "    is used to calculate the emission from matrix.\n",
    "    It takes three arguments, namely:\n",
    "                        1) technology_matrix;\n",
    "                        2) final_demand;\n",
    "                        3) intervention_matrix\n",
    "    '''\n",
    "    technology_matrix_inv = np.linalg.inv(technology_matrix)\n",
    "    scale_matrix = np.dot(technology_matrix_inv, final_demand)\n",
    "    result_matrix = np.dot(intervention_matrix, scale_matrix)\n",
    "    print (result_matrix)"
   ]
  },
  {
   "cell_type": "code",
   "execution_count": 26,
   "metadata": {},
   "outputs": [
    {
     "name": "stdout",
     "output_type": "stream",
     "text": [
      "[[1.28753130e-05]\n",
      " [1.49356531e-02]\n",
      " [7.67471602e-08]]\n"
     ]
    }
   ],
   "source": [
    "calc_emission(techMat, fdQ2, intervMat)"
   ]
  },
  {
   "cell_type": "code",
   "execution_count": 29,
   "metadata": {},
   "outputs": [
    {
     "name": "stdout",
     "output_type": "stream",
     "text": [
      "[[1.85404507e+00]\n",
      " [2.15073404e+03]\n",
      " [1.10515911e-02]]\n"
     ]
    }
   ],
   "source": [
    "calc_emission(techMat, fdQ5, intervMat)"
   ]
  },
  {
   "cell_type": "code",
   "execution_count": null,
   "metadata": {},
   "outputs": [],
   "source": []
  }
 ],
 "metadata": {
  "kernelspec": {
   "display_name": "Python 3",
   "language": "python",
   "name": "python3"
  },
  "language_info": {
   "codemirror_mode": {
    "name": "ipython",
    "version": 3
   },
   "file_extension": ".py",
   "mimetype": "text/x-python",
   "name": "python",
   "nbconvert_exporter": "python",
   "pygments_lexer": "ipython3",
   "version": "3.8.2"
  }
 },
 "nbformat": 4,
 "nbformat_minor": 5
}
