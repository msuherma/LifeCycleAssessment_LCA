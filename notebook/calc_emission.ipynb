{
 "cells": [
  {
   "cell_type": "code",
   "execution_count": 66,
   "id": "thorough-aquarium",
   "metadata": {},
   "outputs": [],
   "source": [
    "import os\n",
    "import glob\n",
    "\n",
    "import pandas as pd\n",
    "import numpy as np"
   ]
  },
  {
   "cell_type": "code",
   "execution_count": 67,
   "id": "moved-adams",
   "metadata": {},
   "outputs": [
    {
     "name": "stdout",
     "output_type": "stream",
     "text": [
      "C:\\Users\\user\n"
     ]
    }
   ],
   "source": [
    "!cd"
   ]
  },
  {
   "cell_type": "code",
   "execution_count": 59,
   "id": "polar-palestine",
   "metadata": {},
   "outputs": [
    {
     "ename": "SyntaxError",
     "evalue": "(unicode error) 'unicodeescape' codec can't decode bytes in position 0-1: truncated \\UXXXXXXXX escape (<ipython-input-59-a2a2adb13cc2>, line 1)",
     "output_type": "error",
     "traceback": [
      "\u001b[1;36m  File \u001b[1;32m\"<ipython-input-59-a2a2adb13cc2>\"\u001b[1;36m, line \u001b[1;32m1\u001b[0m\n\u001b[1;33m    os.path.join(\"\\Users\\user\\OneDrive - purdue.edu\\github\\github-msuherma\\\", \"LifeCycleAssessment_LCA\", \"data\")\u001b[0m\n\u001b[1;37m                                                                               ^\u001b[0m\n\u001b[1;31mSyntaxError\u001b[0m\u001b[1;31m:\u001b[0m (unicode error) 'unicodeescape' codec can't decode bytes in position 0-1: truncated \\UXXXXXXXX escape\n"
     ]
    }
   ],
   "source": [
    "os.path.join(\"\\Users\\user\\OneDrive - purdue.edu\\github\\github-msuherma\\\", \"LifeCycleAssessment_LCA\", \"data\")"
   ]
  },
  {
   "cell_type": "code",
   "execution_count": 60,
   "id": "north-honor",
   "metadata": {},
   "outputs": [
    {
     "data": {
      "text/plain": [
       "'C:\\\\Users\\\\user'"
      ]
     },
     "execution_count": 60,
     "metadata": {},
     "output_type": "execute_result"
    }
   ],
   "source": [
    "os.getcwd()"
   ]
  },
  {
   "cell_type": "code",
   "execution_count": 22,
   "id": "dependent-renaissance",
   "metadata": {},
   "outputs": [],
   "source": [
    "techMat_csv = DATA / 'hw6_tech_matrix.csv'\n",
    "fdQ2_csv = DATA / 'hw6_fd_q2.csv'\n",
    "fdQ5_csv = DATA / 'hw6_fd_q5.csv'\n",
    "intervMat_csv= DATA / 'interv_mat.csv'"
   ]
  },
  {
   "cell_type": "code",
   "execution_count": 23,
   "id": "controlling-insured",
   "metadata": {},
   "outputs": [],
   "source": [
    "techMat = pd.read_csv(techMat_csv)\n",
    "fdQ2 = pd.read_csv(fdQ2_csv)\n",
    "fdQ5= pd.read_csv(fdQ5_csv)\n",
    "intervMat = pd.read_csv(intervMat_csv)"
   ]
  },
  {
   "cell_type": "code",
   "execution_count": 24,
   "id": "fiscal-filter",
   "metadata": {},
   "outputs": [],
   "source": [
    "techMat = pd.DataFrame(techMat).fillna(0)\n",
    "techMat = techMat.apply(pd.to_numeric, errors='coerce').dropna(axis='columns').to_numpy(dtype=float,na_value=0)"
   ]
  },
  {
   "cell_type": "code",
   "execution_count": 25,
   "id": "senior-while",
   "metadata": {},
   "outputs": [],
   "source": [
    "fdQ2 = pd.DataFrame(fdQ2).fillna(0)\n",
    "fdQ2 = fdQ2.apply(pd.to_numeric, errors='coerce').dropna(axis='columns').to_numpy(dtype=float,na_value=0)"
   ]
  },
  {
   "cell_type": "code",
   "execution_count": 30,
   "id": "beginning-diana",
   "metadata": {},
   "outputs": [],
   "source": [
    "intervMat = pd.DataFrame(intervMat).fillna(0)\n",
    "intervMat = intervMat.apply(pd.to_numeric, errors='coerce').dropna(axis='columns').to_numpy(dtype=float,na_value=0)"
   ]
  },
  {
   "cell_type": "code",
   "execution_count": 31,
   "id": "handed-delta",
   "metadata": {},
   "outputs": [
    {
     "data": {
      "text/plain": [
       "(41, 41)"
      ]
     },
     "execution_count": 31,
     "metadata": {},
     "output_type": "execute_result"
    }
   ],
   "source": [
    "techMat.shape"
   ]
  },
  {
   "cell_type": "code",
   "execution_count": 35,
   "id": "excited-portuguese",
   "metadata": {},
   "outputs": [],
   "source": [
    "def calc_emission(technology_matrix, final_demand, intervention_matrix):\n",
    "    '''\n",
    "    calc_emission\n",
    "    is used to calculate the emission from matrix.\n",
    "    It takes three inputs, namely:\n",
    "                        1) technology_matrix;\n",
    "                        2) final_demand;\n",
    "                        3) intervention_matrix\n",
    "    '''\n",
    "    technology_matrix_inv = np.linalg.inv(technology_matrix)\n",
    "    scale_matrix = np.dot(technology_matrix_inv, final_demand)\n",
    "    result_matrix = np.dot(intervention_matrix, scale_matrix)\n",
    "    print (result_matrix)"
   ]
  },
  {
   "cell_type": "code",
   "execution_count": 36,
   "id": "subjective-budapest",
   "metadata": {},
   "outputs": [
    {
     "name": "stdout",
     "output_type": "stream",
     "text": [
      "[[1.28753130e-05]\n",
      " [1.49356531e-02]\n",
      " [7.67471602e-08]]\n"
     ]
    }
   ],
   "source": [
    "calc_emission(techMat, fdQ2, intervMat)"
   ]
  },
  {
   "cell_type": "code",
   "execution_count": null,
   "id": "cross-penny",
   "metadata": {},
   "outputs": [],
   "source": []
  },
  {
   "cell_type": "code",
   "execution_count": null,
   "id": "amateur-badge",
   "metadata": {},
   "outputs": [],
   "source": []
  }
 ],
 "metadata": {
  "kernelspec": {
   "display_name": "Python 3",
   "language": "python",
   "name": "python3"
  },
  "language_info": {
   "codemirror_mode": {
    "name": "ipython",
    "version": 3
   },
   "file_extension": ".py",
   "mimetype": "text/x-python",
   "name": "python",
   "nbconvert_exporter": "python",
   "pygments_lexer": "ipython3",
   "version": "3.9.1"
  }
 },
 "nbformat": 4,
 "nbformat_minor": 5
}
