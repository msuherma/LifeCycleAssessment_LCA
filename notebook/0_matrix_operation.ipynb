{
 "cells": [
  {
   "cell_type": "markdown",
   "id": "amended-sunglasses",
   "metadata": {},
   "source": [
    "## Matrix Operation\n",
    "\n",
    "The following codes are for conducting matrix operation using Python.\n",
    "\n",
    "1. Using `numpy`\n",
    "2. Using `pytorch`\n",
    "3. Using `tensorflow`"
   ]
  },
  {
   "cell_type": "code",
   "execution_count": 1,
   "id": "ancient-macedonia",
   "metadata": {},
   "outputs": [
    {
     "data": {
      "text/plain": [
       "array([[11, 27],\n",
       "       [17, 45],\n",
       "       [23, 63]])"
      ]
     },
     "execution_count": 1,
     "metadata": {},
     "output_type": "execute_result"
    }
   ],
   "source": [
    "import numpy as np\n",
    "import matplotlib.pyplot as plt\n",
    "A = np.array([[3, 4],[5, 6],[7, 8]]) # A matrix with 3x2 dimension\n",
    "B = np.array([[1, 9], [2, 0]]) # B matrix with 2x2 dimension\n",
    "AB = np.dot(A,B)\n",
    "AB"
   ]
  },
  {
   "cell_type": "code",
   "execution_count": null,
   "id": "spectacular-worker",
   "metadata": {},
   "outputs": [],
   "source": []
  }
 ],
 "metadata": {
  "kernelspec": {
   "display_name": "Python 3",
   "language": "python",
   "name": "python3"
  },
  "language_info": {
   "codemirror_mode": {
    "name": "ipython",
    "version": 3
   },
   "file_extension": ".py",
   "mimetype": "text/x-python",
   "name": "python",
   "nbconvert_exporter": "python",
   "pygments_lexer": "ipython3",
   "version": "3.9.1"
  }
 },
 "nbformat": 4,
 "nbformat_minor": 5
}
