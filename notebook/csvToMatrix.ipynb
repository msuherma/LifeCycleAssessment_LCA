{
 "cells": [
  {
   "cell_type": "code",
   "execution_count": 1,
   "metadata": {},
   "outputs": [],
   "source": [
    "from pathlib import Path\n",
    "\n",
    "import pandas as pd\n",
    "import numpy as np\n",
    "import csv"
   ]
  },
  {
   "cell_type": "code",
   "execution_count": 2,
   "metadata": {},
   "outputs": [],
   "source": [
    "try:\n",
    "    import common\n",
    "    DATA = common.dataDirectory()\n",
    "except ImportError:\n",
    "    DATA = Path().resolve() / 'data'"
   ]
  },
  {
   "cell_type": "code",
   "execution_count": 149,
   "metadata": {},
   "outputs": [
    {
     "name": "stdout",
     "output_type": "stream",
     "text": [
      "hw6_init_matrix.csv\n",
      "hw6_inv_matrix.csv\n",
      "interv_mat.csv\n",
      "hw6_fd_q2.csv\n",
      "hw6_fd_q5.csv\n",
      "hw6_tech_matrix.csv\n"
     ]
    }
   ],
   "source": [
    "for entry in DATA.iterdir():\n",
    "    if entry.is_file():\n",
    "        print(entry.name)"
   ]
  },
  {
   "cell_type": "code",
   "execution_count": 150,
   "metadata": {},
   "outputs": [],
   "source": [
    "techMat_csv = DATA / 'hw6_tech_matrix.csv'\n",
    "fdQ2_csv = DATA / 'hw6_fd_q2.csv'\n",
    "fdQ5_csv = DATA / 'hw6_fd_q5.csv'\n",
    "intervMat_csv= DATA / 'interv_mat.csv'"
   ]
  },
  {
   "cell_type": "code",
   "execution_count": 151,
   "metadata": {},
   "outputs": [],
   "source": [
    "ncols = 43\n",
    "def tech_matrix(fileName):\n",
    "    '''\n",
    "    tech_matrix function is used to convert csv into matrix for technology matrix.\n",
    "    '''\n",
    "    fill_val = 0\n",
    "    fileName = np.genfromtxt(fileName, delimiter=',', usecols=np.arange(2,ncols), filling_values=fill_val,skip_header=True)\n",
    "    print('The matrix conversion is completed')\n",
    "    print(f'The matrix shape is: {fileName.shape}')\n",
    "    return fileName"
   ]
  },
  {
   "cell_type": "code",
   "execution_count": 152,
   "metadata": {},
   "outputs": [
    {
     "name": "stdout",
     "output_type": "stream",
     "text": [
      "The matrix conversion is completed\n",
      "The matrix shape is: (41, 41)\n"
     ]
    }
   ],
   "source": [
    "t_mat=tech_matrix(techMat_csv)"
   ]
  },
  {
   "cell_type": "code",
   "execution_count": 153,
   "metadata": {},
   "outputs": [
    {
     "data": {
      "text/plain": [
       "dtype('float64')"
      ]
     },
     "execution_count": 153,
     "metadata": {},
     "output_type": "execute_result"
    }
   ],
   "source": [
    "t_mat.dtype"
   ]
  },
  {
   "cell_type": "code",
   "execution_count": 154,
   "metadata": {},
   "outputs": [],
   "source": [
    "def tech_matrix_inv(technology_matrix):\n",
    "    '''\n",
    "    tech_matrix_inv is a function to inverse the technology matrix\n",
    "    for next processes.\n",
    "    '''\n",
    "    technology_matrix = np.linalg.inv(technology_matrix)\n",
    "    return technology_matrix"
   ]
  },
  {
   "cell_type": "code",
   "execution_count": 155,
   "metadata": {},
   "outputs": [
    {
     "data": {
      "text/plain": [
       "array([[ 1.00000000e+00,  0.00000000e+00,  0.00000000e+00, ...,\n",
       "         0.00000000e+00,  0.00000000e+00,  0.00000000e+00],\n",
       "       [-0.00000000e+00, -2.33814211e+02, -7.55314510e+16, ...,\n",
       "        -1.91781146e+26, -0.00000000e+00,  4.33007062e+23],\n",
       "       [-0.00000000e+00, -0.00000000e+00,  1.33390565e-01, ...,\n",
       "         1.06829235e+06, -0.00000000e+00, -2.53205704e+03],\n",
       "       ...,\n",
       "       [-0.00000000e+00, -0.00000000e+00,  2.80444996e-02, ...,\n",
       "        -1.65004138e+07, -8.23723229e+01,  3.72576093e+04],\n",
       "       [-0.00000000e+00, -0.00000000e+00,  3.40460225e-04, ...,\n",
       "        -2.00315023e+05, -0.00000000e+00,  4.52307378e+02],\n",
       "       [ 0.00000000e+00,  0.00000000e+00,  1.25917494e-26, ...,\n",
       "         9.74239425e-01,  0.00000000e+00,  5.81660016e-05]])"
      ]
     },
     "execution_count": 155,
     "metadata": {},
     "output_type": "execute_result"
    }
   ],
   "source": [
    "t_mat_inv = tech_matrix_inv(t_mat)\n",
    "t_mat_inv"
   ]
  },
  {
   "cell_type": "code",
   "execution_count": 156,
   "metadata": {},
   "outputs": [
    {
     "data": {
      "text/plain": [
       "41"
      ]
     },
     "execution_count": 156,
     "metadata": {},
     "output_type": "execute_result"
    }
   ],
   "source": [
    "t_mat_inv.shape[0]"
   ]
  },
  {
   "cell_type": "code",
   "execution_count": 157,
   "metadata": {},
   "outputs": [],
   "source": [
    "technology_matrix_inv = t_mat_inv\n",
    "nrows = technology_matrix_inv.shape[0]\n",
    "fdemand_val = 1\n",
    "fdemand_mat = np.array([fdemand_val])"
   ]
  },
  {
   "cell_type": "code",
   "execution_count": 158,
   "metadata": {},
   "outputs": [],
   "source": [
    "def create_fdemand_matrix(fdemand_val, nrows):\n",
    "    '''\n",
    "    create_fdemand_matrix is a function to create final demand matrix;\n",
    "    ARGUMENTS:\n",
    "        fdemand_val = value of final demand;\n",
    "        nrows = number of rows, can be taken from the technology matrix m-dimension\n",
    "        \n",
    "    '''\n",
    "    fdemand_matrix = np.zeros((nrows-1,1))\n",
    "    fdemand_matrix = np.vstack([fdemand_mat, fdemand_matrix])\n",
    "    return fdemand_matrix"
   ]
  },
  {
   "cell_type": "code",
   "execution_count": 159,
   "metadata": {},
   "outputs": [
    {
     "data": {
      "text/plain": [
       "dtype('float64')"
      ]
     },
     "execution_count": 159,
     "metadata": {},
     "output_type": "execute_result"
    }
   ],
   "source": [
    "fdemand_matrix = create_fdemand_matrix(1, nrows)\n",
    "fdemand_matrix.dtype"
   ]
  },
  {
   "cell_type": "code",
   "execution_count": 166,
   "metadata": {},
   "outputs": [],
   "source": [
    "# Alternative function, if we have already make fdemand csv file\n",
    "def fdemand_matrix(fileName):\n",
    "    fill_val = 0\n",
    "    fileName=np.genfromtxt(fileName, delimiter=',',skip_header=True)\n",
    "    print('The matrix conversion is completed')\n",
    "    print(f'The matrix shape is: {fileName.shape}')\n",
    "    return fileName.reshape(fileName.shape[0],1)\n",
    "    print(f'The matrix shape is: {fileName.shape}')"
   ]
  },
  {
   "cell_type": "code",
   "execution_count": 167,
   "metadata": {},
   "outputs": [
    {
     "name": "stdout",
     "output_type": "stream",
     "text": [
      "The matrix conversion is completed\n",
      "The matrix shape is: (41,)\n"
     ]
    },
    {
     "data": {
      "text/plain": [
       "array([[1.],\n",
       "       [0.],\n",
       "       [0.],\n",
       "       [0.],\n",
       "       [0.],\n",
       "       [0.],\n",
       "       [0.],\n",
       "       [0.],\n",
       "       [0.],\n",
       "       [0.],\n",
       "       [0.],\n",
       "       [0.],\n",
       "       [0.],\n",
       "       [0.],\n",
       "       [0.],\n",
       "       [0.],\n",
       "       [0.],\n",
       "       [0.],\n",
       "       [0.],\n",
       "       [0.],\n",
       "       [0.],\n",
       "       [0.],\n",
       "       [0.],\n",
       "       [0.],\n",
       "       [0.],\n",
       "       [0.],\n",
       "       [0.],\n",
       "       [0.],\n",
       "       [0.],\n",
       "       [0.],\n",
       "       [0.],\n",
       "       [0.],\n",
       "       [0.],\n",
       "       [0.],\n",
       "       [0.],\n",
       "       [0.],\n",
       "       [0.],\n",
       "       [0.],\n",
       "       [0.],\n",
       "       [0.],\n",
       "       [0.]])"
      ]
     },
     "execution_count": 167,
     "metadata": {},
     "output_type": "execute_result"
    }
   ],
   "source": [
    "fdemand_matrix(fdQ2_csv)"
   ]
  },
  {
   "cell_type": "code",
   "execution_count": 23,
   "metadata": {},
   "outputs": [
    {
     "data": {
      "text/plain": [
       "array([[ 1.00000000e+00,  0.00000000e+00,  0.00000000e+00, ...,\n",
       "         0.00000000e+00,  0.00000000e+00,  0.00000000e+00],\n",
       "       [-0.00000000e+00, -2.33814211e+02, -7.55314510e+16, ...,\n",
       "        -1.91781146e+26, -0.00000000e+00,  4.33007062e+23],\n",
       "       [-0.00000000e+00, -0.00000000e+00,  1.33390565e-01, ...,\n",
       "         1.06829235e+06, -0.00000000e+00, -2.53205704e+03],\n",
       "       ...,\n",
       "       [-0.00000000e+00, -0.00000000e+00,  2.80444996e-02, ...,\n",
       "        -1.65004138e+07, -8.23723229e+01,  3.72576093e+04],\n",
       "       [-0.00000000e+00, -0.00000000e+00,  3.40460225e-04, ...,\n",
       "        -2.00315023e+05, -0.00000000e+00,  4.52307378e+02],\n",
       "       [ 0.00000000e+00,  0.00000000e+00,  1.25917494e-26, ...,\n",
       "         9.74239425e-01,  0.00000000e+00,  5.81660016e-05]])"
      ]
     },
     "execution_count": 23,
     "metadata": {},
     "output_type": "execute_result"
    }
   ],
   "source": [
    "techMat_inv = np.linalg.inv(techMat)\n",
    "techMat_inv"
   ]
  },
  {
   "cell_type": "code",
   "execution_count": 172,
   "metadata": {},
   "outputs": [],
   "source": [
    "def calc_emission(technology_matrix, final_demand, intervention_matrix):\n",
    "    '''\n",
    "    calc_emission\n",
    "    is used to calculate the emission from matrix.\n",
    "    It takes three inputs, namely:\n",
    "                        1) technology_matrix;\n",
    "                        2) final_demand;\n",
    "                        3) intervention_matrix\n",
    "    '''\n",
    "    technology_matrix_inv = np.linalg.inv(technology_matrix)\n",
    "    scale_matrix = np.dot(technology_matrix_inv, final_demand)\n",
    "    result_matrix = np.dot(intervention_matrix, scale_matrix)\n",
    "    print (result_matrix)"
   ]
  },
  {
   "cell_type": "code",
   "execution_count": 173,
   "metadata": {},
   "outputs": [],
   "source": [
    "intervMat = pd.read_csv(intervMat_csv)\n",
    "intervMat = pd.DataFrame(intervMat).fillna(0)\n",
    "intervMat = intervMat.apply(pd.to_numeric, errors='coerce').dropna(axis='columns').to_numpy(dtype=float,na_value=0)"
   ]
  },
  {
   "cell_type": "code",
   "execution_count": 174,
   "metadata": {},
   "outputs": [
    {
     "data": {
      "text/plain": [
       "(3, 41)"
      ]
     },
     "execution_count": 174,
     "metadata": {},
     "output_type": "execute_result"
    }
   ],
   "source": [
    "intervMat.shape"
   ]
  },
  {
   "cell_type": "code",
   "execution_count": 178,
   "metadata": {},
   "outputs": [
    {
     "data": {
      "text/plain": [
       "array([[ 1.0000e+00,  0.0000e+00,  0.0000e+00, ...,  0.0000e+00,\n",
       "         0.0000e+00,  0.0000e+00],\n",
       "       [ 0.0000e+00, -4.2769e-03,  2.5230e-01, ...,  0.0000e+00,\n",
       "         0.0000e+00,  0.0000e+00],\n",
       "       [ 0.0000e+00,  0.0000e+00, -1.3340e-03, ...,  0.0000e+00,\n",
       "         0.0000e+00,  0.0000e+00],\n",
       "       ...,\n",
       "       [ 0.0000e+00,  0.0000e+00,  0.0000e+00, ...,  0.0000e+00,\n",
       "         0.0000e+00,  1.0000e+00],\n",
       "       [ 0.0000e+00,  0.0000e+00,  0.0000e+00, ..., -1.2140e-02,\n",
       "         1.0000e+00,  0.0000e+00],\n",
       "       [ 0.0000e+00,  0.0000e+00,  0.0000e+00, ...,  0.0000e+00,\n",
       "         0.0000e+00, -2.0600e+01]])"
      ]
     },
     "execution_count": 178,
     "metadata": {},
     "output_type": "execute_result"
    }
   ],
   "source": [
    "t_mat"
   ]
  },
  {
   "cell_type": "code",
   "execution_count": 175,
   "metadata": {},
   "outputs": [
    {
     "ename": "TypeError",
     "evalue": "unsupported operand type(s) for *: 'float' and 'function'",
     "output_type": "error",
     "traceback": [
      "\u001b[0;31m---------------------------------------------------------------------------\u001b[0m",
      "\u001b[0;31mTypeError\u001b[0m                                 Traceback (most recent call last)",
      "\u001b[0;32m<ipython-input-175-34d378723690>\u001b[0m in \u001b[0;36m<module>\u001b[0;34m\u001b[0m\n\u001b[0;32m----> 1\u001b[0;31m \u001b[0mcalc_emission\u001b[0m\u001b[0;34m(\u001b[0m\u001b[0mt_mat\u001b[0m\u001b[0;34m,\u001b[0m \u001b[0mfdemand_matrix\u001b[0m\u001b[0;34m,\u001b[0m \u001b[0mintervMat\u001b[0m\u001b[0;34m)\u001b[0m\u001b[0;34m\u001b[0m\u001b[0;34m\u001b[0m\u001b[0m\n\u001b[0m",
      "\u001b[0;32m<ipython-input-172-d60a317b8e8c>\u001b[0m in \u001b[0;36mcalc_emission\u001b[0;34m(technology_matrix, final_demand, intervention_matrix)\u001b[0m\n\u001b[1;32m      9\u001b[0m     '''\n\u001b[1;32m     10\u001b[0m     \u001b[0mtechnology_matrix_inv\u001b[0m \u001b[0;34m=\u001b[0m \u001b[0mnp\u001b[0m\u001b[0;34m.\u001b[0m\u001b[0mlinalg\u001b[0m\u001b[0;34m.\u001b[0m\u001b[0minv\u001b[0m\u001b[0;34m(\u001b[0m\u001b[0mtechnology_matrix\u001b[0m\u001b[0;34m)\u001b[0m\u001b[0;34m\u001b[0m\u001b[0;34m\u001b[0m\u001b[0m\n\u001b[0;32m---> 11\u001b[0;31m     \u001b[0mscale_matrix\u001b[0m \u001b[0;34m=\u001b[0m \u001b[0mnp\u001b[0m\u001b[0;34m.\u001b[0m\u001b[0mdot\u001b[0m\u001b[0;34m(\u001b[0m\u001b[0mtechnology_matrix_inv\u001b[0m\u001b[0;34m,\u001b[0m \u001b[0mfinal_demand\u001b[0m\u001b[0;34m)\u001b[0m\u001b[0;34m\u001b[0m\u001b[0;34m\u001b[0m\u001b[0m\n\u001b[0m\u001b[1;32m     12\u001b[0m     \u001b[0mresult_matrix\u001b[0m \u001b[0;34m=\u001b[0m \u001b[0mnp\u001b[0m\u001b[0;34m.\u001b[0m\u001b[0mdot\u001b[0m\u001b[0;34m(\u001b[0m\u001b[0mintervention_matrix\u001b[0m\u001b[0;34m,\u001b[0m \u001b[0mscale_matrix\u001b[0m\u001b[0;34m)\u001b[0m\u001b[0;34m\u001b[0m\u001b[0;34m\u001b[0m\u001b[0m\n\u001b[1;32m     13\u001b[0m     \u001b[0mprint\u001b[0m \u001b[0;34m(\u001b[0m\u001b[0mresult_matrix\u001b[0m\u001b[0;34m)\u001b[0m\u001b[0;34m\u001b[0m\u001b[0;34m\u001b[0m\u001b[0m\n",
      "\u001b[0;32m<__array_function__ internals>\u001b[0m in \u001b[0;36mdot\u001b[0;34m(*args, **kwargs)\u001b[0m\n",
      "\u001b[0;31mTypeError\u001b[0m: unsupported operand type(s) for *: 'float' and 'function'"
     ]
    }
   ],
   "source": [
    "calc_emission(t_mat, fdemand_matrix, intervMat)"
   ]
  },
  {
   "cell_type": "markdown",
   "metadata": {},
   "source": [
    "# Important!!\n",
    "There is still error somewhere in the technology matrix creation; not yet solved, but the calc_emission and calc_emission_v2 should be priorities."
   ]
  },
  {
   "cell_type": "code",
   "execution_count": null,
   "metadata": {},
   "outputs": [],
   "source": []
  }
 ],
 "metadata": {
  "kernelspec": {
   "display_name": "Python 3",
   "language": "python",
   "name": "python3"
  },
  "language_info": {
   "codemirror_mode": {
    "name": "ipython",
    "version": 3
   },
   "file_extension": ".py",
   "mimetype": "text/x-python",
   "name": "python",
   "nbconvert_exporter": "python",
   "pygments_lexer": "ipython3",
   "version": "3.8.2"
  }
 },
 "nbformat": 4,
 "nbformat_minor": 5
}
