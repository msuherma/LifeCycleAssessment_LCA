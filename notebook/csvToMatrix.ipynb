{
 "cells": [
  {
   "cell_type": "code",
   "execution_count": 19,
   "id": "prescription-motion",
   "metadata": {},
   "outputs": [],
   "source": [
    "from pathlib import Path\n",
    "\n",
    "import pandas as pd\n",
    "import numpy as np\n",
    "import csv"
   ]
  },
  {
   "cell_type": "code",
   "execution_count": null,
   "id": "faced-tours",
   "metadata": {},
   "outputs": [],
   "source": []
  },
  {
   "cell_type": "code",
   "execution_count": 20,
   "id": "professional-encounter",
   "metadata": {},
   "outputs": [],
   "source": [
    "try:\n",
    "    import common\n",
    "    DATA = common.dataDirectory()\n",
    "except ImportError:\n",
    "    DATA = Path().resolve() / 'data'"
   ]
  },
  {
   "cell_type": "code",
   "execution_count": 27,
   "id": "thousand-monitoring",
   "metadata": {},
   "outputs": [],
   "source": [
    "techMat_csv = DATA / 'hw6_tech_matrix.csv'\n",
    "fdQ2_csv = DATA / 'hw6_fd_q2.csv'\n",
    "fdQ5_csv = DATA / 'hw6_fd_q5.csv'"
   ]
  },
  {
   "cell_type": "code",
   "execution_count": 28,
   "id": "ideal-boring",
   "metadata": {},
   "outputs": [],
   "source": [
    "techMat = pd.read_csv(techMat_csv)\n",
    "fdQ2 = pd.read_csv(fdQ2_csv)\n",
    "fdQ5= pd.read_csv(fdQ5_csv)"
   ]
  },
  {
   "cell_type": "code",
   "execution_count": 30,
   "id": "significant-camping",
   "metadata": {},
   "outputs": [],
   "source": [
    "def csvToMatrix(fileName):\n",
    "    '''\n",
    "    csvToMatrix is used to convert csv file used in LCA to matrix ready to process for next level\n",
    "    '''\n",
    "    #ileName = DATA / fileName+'.csv'\n",
    "    #fileName = pd.read_csv(fileName)\n",
    "    fileName = pd.DataFrame(fileName).fillna(0)\n",
    "    print(f'Any NaN available in this file? {fileName.isnull().values.any()}')\n",
    "    fileName = fileName.replace(r'^([A-Za-z]|[0-9]|_)+$', np.NaN, regex=True)\n",
    "    #fileName = fileName.dropna(axis='columns')\n",
    "    #fileName = fileName.to_numpy(dtype=float, na_value=0)"
   ]
  },
  {
   "cell_type": "code",
   "execution_count": 31,
   "id": "adolescent-teach",
   "metadata": {},
   "outputs": [
    {
     "ename": "ValueError",
     "evalue": "DataFrame constructor not properly called!",
     "output_type": "error",
     "traceback": [
      "\u001b[1;31m---------------------------------------------------------------------------\u001b[0m",
      "\u001b[1;31mValueError\u001b[0m                                Traceback (most recent call last)",
      "\u001b[1;32m<ipython-input-31-2b99b46e671e>\u001b[0m in \u001b[0;36m<module>\u001b[1;34m\u001b[0m\n\u001b[1;32m----> 1\u001b[1;33m \u001b[0mcsvToMatrix\u001b[0m\u001b[1;33m(\u001b[0m\u001b[0mtechMat_csv\u001b[0m\u001b[1;33m)\u001b[0m\u001b[1;33m\u001b[0m\u001b[1;33m\u001b[0m\u001b[0m\n\u001b[0m\u001b[0;32m      2\u001b[0m \u001b[0mtechMat_csv\u001b[0m\u001b[1;33m\u001b[0m\u001b[1;33m\u001b[0m\u001b[0m\n",
      "\u001b[1;32m<ipython-input-30-d317e5c98163>\u001b[0m in \u001b[0;36mcsvToMatrix\u001b[1;34m(fileName)\u001b[0m\n\u001b[0;32m      5\u001b[0m     \u001b[1;31m#ileName = DATA / fileName+'.csv'\u001b[0m\u001b[1;33m\u001b[0m\u001b[1;33m\u001b[0m\u001b[1;33m\u001b[0m\u001b[0m\n\u001b[0;32m      6\u001b[0m     \u001b[1;31m#fileName = pd.read_csv(fileName)\u001b[0m\u001b[1;33m\u001b[0m\u001b[1;33m\u001b[0m\u001b[1;33m\u001b[0m\u001b[0m\n\u001b[1;32m----> 7\u001b[1;33m     \u001b[0mfileName\u001b[0m \u001b[1;33m=\u001b[0m \u001b[0mpd\u001b[0m\u001b[1;33m.\u001b[0m\u001b[0mDataFrame\u001b[0m\u001b[1;33m(\u001b[0m\u001b[0mfileName\u001b[0m\u001b[1;33m)\u001b[0m\u001b[1;33m.\u001b[0m\u001b[0mfillna\u001b[0m\u001b[1;33m(\u001b[0m\u001b[1;36m0\u001b[0m\u001b[1;33m)\u001b[0m\u001b[1;33m\u001b[0m\u001b[1;33m\u001b[0m\u001b[0m\n\u001b[0m\u001b[0;32m      8\u001b[0m     \u001b[0mprint\u001b[0m\u001b[1;33m(\u001b[0m\u001b[1;34mf'Any NaN available in this file? {fileName.isnull().values.any()}'\u001b[0m\u001b[1;33m)\u001b[0m\u001b[1;33m\u001b[0m\u001b[1;33m\u001b[0m\u001b[0m\n\u001b[0;32m      9\u001b[0m     \u001b[0mfileName\u001b[0m \u001b[1;33m=\u001b[0m \u001b[0mfileName\u001b[0m\u001b[1;33m.\u001b[0m\u001b[0mreplace\u001b[0m\u001b[1;33m(\u001b[0m\u001b[1;34mr'^([A-Za-z]|[0-9]|_)+$'\u001b[0m\u001b[1;33m,\u001b[0m \u001b[0mnp\u001b[0m\u001b[1;33m.\u001b[0m\u001b[0mNaN\u001b[0m\u001b[1;33m,\u001b[0m \u001b[0mregex\u001b[0m\u001b[1;33m=\u001b[0m\u001b[1;32mTrue\u001b[0m\u001b[1;33m)\u001b[0m\u001b[1;33m\u001b[0m\u001b[1;33m\u001b[0m\u001b[0m\n",
      "\u001b[1;32m~\\Anaconda3\\envs\\phd\\lib\\site-packages\\pandas\\core\\frame.py\u001b[0m in \u001b[0;36m__init__\u001b[1;34m(self, data, index, columns, dtype, copy)\u001b[0m\n\u001b[0;32m    588\u001b[0m         \u001b[1;32melse\u001b[0m\u001b[1;33m:\u001b[0m\u001b[1;33m\u001b[0m\u001b[1;33m\u001b[0m\u001b[0m\n\u001b[0;32m    589\u001b[0m             \u001b[1;32mif\u001b[0m \u001b[0mindex\u001b[0m \u001b[1;32mis\u001b[0m \u001b[1;32mNone\u001b[0m \u001b[1;32mor\u001b[0m \u001b[0mcolumns\u001b[0m \u001b[1;32mis\u001b[0m \u001b[1;32mNone\u001b[0m\u001b[1;33m:\u001b[0m\u001b[1;33m\u001b[0m\u001b[1;33m\u001b[0m\u001b[0m\n\u001b[1;32m--> 590\u001b[1;33m                 \u001b[1;32mraise\u001b[0m \u001b[0mValueError\u001b[0m\u001b[1;33m(\u001b[0m\u001b[1;34m\"DataFrame constructor not properly called!\"\u001b[0m\u001b[1;33m)\u001b[0m\u001b[1;33m\u001b[0m\u001b[1;33m\u001b[0m\u001b[0m\n\u001b[0m\u001b[0;32m    591\u001b[0m \u001b[1;33m\u001b[0m\u001b[0m\n\u001b[0;32m    592\u001b[0m             \u001b[1;32mif\u001b[0m \u001b[1;32mnot\u001b[0m \u001b[0mdtype\u001b[0m\u001b[1;33m:\u001b[0m\u001b[1;33m\u001b[0m\u001b[1;33m\u001b[0m\u001b[0m\n",
      "\u001b[1;31mValueError\u001b[0m: DataFrame constructor not properly called!"
     ]
    }
   ],
   "source": [
    "csvToMatrix(techMat_csv)\n",
    "techMat_csv"
   ]
  },
  {
   "cell_type": "code",
   "execution_count": 35,
   "id": "hourly-custody",
   "metadata": {},
   "outputs": [
    {
     "name": "stdout",
     "output_type": "stream",
     "text": [
      "Any NaN available in this file? False\n"
     ]
    }
   ],
   "source": [
    "print(f'Any NaN available in this file? {techMat.isnull().values.any()}')"
   ]
  },
  {
   "cell_type": "code",
   "execution_count": 48,
   "id": "sophisticated-algorithm",
   "metadata": {},
   "outputs": [],
   "source": [
    "techMat1 = techMat.apply(pd.to_numeric, errors='coerce').dropna(axis='columns').to_numpy(dtype=float, na_value=0)"
   ]
  },
  {
   "cell_type": "code",
   "execution_count": 50,
   "id": "premium-liberal",
   "metadata": {},
   "outputs": [
    {
     "data": {
      "text/plain": [
       "array([[ 1.0000e+00,  0.0000e+00,  0.0000e+00, ...,  0.0000e+00,\n",
       "         0.0000e+00,  0.0000e+00],\n",
       "       [-4.2769e-03,  2.5230e-01,  0.0000e+00, ...,  0.0000e+00,\n",
       "         0.0000e+00,  0.0000e+00],\n",
       "       [-1.3340e-03,  0.0000e+00,  1.0000e+00, ...,  0.0000e+00,\n",
       "         0.0000e+00, -1.2660e-01],\n",
       "       ...,\n",
       "       [ 0.0000e+00,  0.0000e+00,  0.0000e+00, ...,  1.0000e+00,\n",
       "         0.0000e+00,  0.0000e+00],\n",
       "       [ 0.0000e+00,  0.0000e+00,  0.0000e+00, ...,  0.0000e+00,\n",
       "         1.0000e+00,  0.0000e+00],\n",
       "       [ 0.0000e+00,  0.0000e+00,  0.0000e+00, ...,  0.0000e+00,\n",
       "        -2.2700e+01,  1.0000e+00]])"
      ]
     },
     "execution_count": 50,
     "metadata": {},
     "output_type": "execute_result"
    }
   ],
   "source": [
    "techMat1"
   ]
  },
  {
   "cell_type": "code",
   "execution_count": 51,
   "id": "black-enzyme",
   "metadata": {},
   "outputs": [],
   "source": [
    "techMat1_inv = np.linalg.inv(techMat1)"
   ]
  },
  {
   "cell_type": "code",
   "execution_count": 52,
   "id": "dedicated-programming",
   "metadata": {},
   "outputs": [
    {
     "data": {
      "text/plain": [
       "array([[ 1.00000000e+00,  0.00000000e+00,  0.00000000e+00, ...,\n",
       "         0.00000000e+00,  0.00000000e+00,  0.00000000e+00],\n",
       "       [-1.18035165e-18,  2.02527384e-20,  7.23590562e-19, ...,\n",
       "         4.69056842e-16, -6.59251402e-14,  1.00524900e-17],\n",
       "       [-2.88338335e+00, -7.19712613e+02, -3.00229781e+00, ...,\n",
       "        -1.06337645e+01,  4.10563866e+04, -5.37698112e+00],\n",
       "       ...,\n",
       "       [-3.37445387e-07, -8.44698881e-05, -4.69734228e-07, ...,\n",
       "         1.00036116e+00,  2.69487744e-02, -8.55738781e-07],\n",
       "       [-3.77705976e-08, -9.45479854e-06, -5.25778190e-08, ...,\n",
       "        -1.07339748e-07,  1.00301640e+00, -9.57836923e-08],\n",
       "       [-8.57392566e-07, -2.14623927e-04, -1.19351649e-06, ...,\n",
       "        -2.43661227e-06,  2.27684724e+01,  9.99997826e-01]])"
      ]
     },
     "execution_count": 52,
     "metadata": {},
     "output_type": "execute_result"
    }
   ],
   "source": [
    "techMat1_inv"
   ]
  },
  {
   "cell_type": "code",
   "execution_count": null,
   "id": "substantial-clock",
   "metadata": {},
   "outputs": [],
   "source": []
  }
 ],
 "metadata": {
  "kernelspec": {
   "display_name": "Python 3",
   "language": "python",
   "name": "python3"
  },
  "language_info": {
   "codemirror_mode": {
    "name": "ipython",
    "version": 3
   },
   "file_extension": ".py",
   "mimetype": "text/x-python",
   "name": "python",
   "nbconvert_exporter": "python",
   "pygments_lexer": "ipython3",
   "version": "3.9.1"
  }
 },
 "nbformat": 4,
 "nbformat_minor": 5
}
