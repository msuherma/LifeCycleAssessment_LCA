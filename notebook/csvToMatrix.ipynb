{
 "cells": [
  {
   "cell_type": "code",
   "execution_count": 1,
   "id": "considerable-cooperation",
   "metadata": {},
   "outputs": [],
   "source": [
    "from pathlib import Path\n",
    "\n",
    "import pandas as pd\n",
    "import numpy as np\n",
    "import csv"
   ]
  },
  {
   "cell_type": "code",
   "execution_count": 2,
   "id": "intended-temperature",
   "metadata": {},
   "outputs": [],
   "source": [
    "try:\n",
    "    import common\n",
    "    DATA = common.dataDirectory()\n",
    "except ImportError:\n",
    "    DATA = Path().resolve() / 'data'"
   ]
  },
  {
   "cell_type": "code",
   "execution_count": 3,
   "id": "hollow-cameroon",
   "metadata": {},
   "outputs": [
    {
     "name": "stdout",
     "output_type": "stream",
     "text": [
      "hw6_fd_q2.csv\n",
      "hw6_fd_q5.csv\n",
      "hw6_init_matrix.csv\n",
      "hw6_inv_matrix.csv\n",
      "hw6_tech_matrix.csv\n",
      "interv_mat.csv\n"
     ]
    }
   ],
   "source": [
    "for entry in DATA.iterdir():\n",
    "    if entry.is_file():\n",
    "        print(entry.name)"
   ]
  },
  {
   "cell_type": "code",
   "execution_count": 67,
   "id": "hired-chassis",
   "metadata": {},
   "outputs": [],
   "source": []
  },
  {
   "cell_type": "code",
   "execution_count": null,
   "id": "invisible-refund",
   "metadata": {},
   "outputs": [],
   "source": []
  },
  {
   "cell_type": "code",
   "execution_count": null,
   "id": "welcome-elite",
   "metadata": {},
   "outputs": [],
   "source": []
  },
  {
   "cell_type": "code",
   "execution_count": null,
   "id": "material-swaziland",
   "metadata": {},
   "outputs": [],
   "source": []
  },
  {
   "cell_type": "code",
   "execution_count": null,
   "id": "joined-consideration",
   "metadata": {},
   "outputs": [],
   "source": []
  },
  {
   "cell_type": "code",
   "execution_count": 4,
   "id": "looking-bunch",
   "metadata": {},
   "outputs": [],
   "source": [
    "techMat_csv = DATA / 'hw6_tech_matrix.csv'\n",
    "fdQ2_csv = DATA / 'hw6_fd_q2.csv'\n",
    "fdQ5_csv = DATA / 'hw6_fd_q5.csv'"
   ]
  },
  {
   "cell_type": "code",
   "execution_count": 5,
   "id": "visible-prescription",
   "metadata": {},
   "outputs": [],
   "source": [
    "techMat = pd.read_csv(techMat_csv)\n",
    "fdQ2 = pd.read_csv(fdQ2_csv)\n",
    "fdQ5= pd.read_csv(fdQ5_csv)"
   ]
  },
  {
   "cell_type": "code",
   "execution_count": 88,
   "id": "olive-tunisia",
   "metadata": {},
   "outputs": [
    {
     "ename": "IndentationError",
     "evalue": "unexpected indent (<ipython-input-88-3842412a8319>, line 5)",
     "output_type": "error",
     "traceback": [
      "\u001b[1;36m  File \u001b[1;32m\"<ipython-input-88-3842412a8319>\"\u001b[1;36m, line \u001b[1;32m5\u001b[0m\n\u001b[1;33m    '''\u001b[0m\n\u001b[1;37m    ^\u001b[0m\n\u001b[1;31mIndentationError\u001b[0m\u001b[1;31m:\u001b[0m unexpected indent\n"
     ]
    }
   ],
   "source": [
    "'''\n",
    "def csvToMatrix(fileName):\n",
    "    '''\n",
    "    #csvToMatrix is used to convert csv file used in LCA to matrix ready to process for next level\n",
    "    '''\n",
    "    #ileName = DATA / fileName+'.csv'\n",
    "    #fileName = pd.read_csv(fileName)\n",
    "    \n",
    "    pd.DataFrame(fileName).fillna(0)\n",
    "    print(f'Any NaN available in this file? {fileName.isnull().values.any()}')\n",
    "    fileName.replace(r'^([A-Za-z]|[0-9]|_)+$', np.NaN, regex=True)\n",
    "    fileName.dropna(axis='columns')\n",
    "    #fileName = fileName.to_numpy(dtype=float, na_value=0)\n",
    "    '''"
   ]
  },
  {
   "cell_type": "code",
   "execution_count": 90,
   "id": "quick-papua",
   "metadata": {},
   "outputs": [],
   "source": [
    "#csvToMatrix(techMat)\n",
    "#techMat"
   ]
  },
  {
   "cell_type": "code",
   "execution_count": 6,
   "id": "reserved-convergence",
   "metadata": {},
   "outputs": [
    {
     "name": "stdout",
     "output_type": "stream",
     "text": [
      "Any NaN available in this file? True\n"
     ]
    }
   ],
   "source": [
    "print(f'Any NaN available in this file? {techMat.isnull().values.any()}')"
   ]
  },
  {
   "cell_type": "code",
   "execution_count": 7,
   "id": "polished-virus",
   "metadata": {},
   "outputs": [],
   "source": [
    "techMat = pd.DataFrame(techMat).fillna(0)"
   ]
  },
  {
   "cell_type": "code",
   "execution_count": 8,
   "id": "incorporate-telling",
   "metadata": {},
   "outputs": [],
   "source": [
    "techMat1 = techMat.apply(pd.to_numeric, errors='coerce').dropna(axis='columns').to_numpy(dtype=float, na_value=0)"
   ]
  },
  {
   "cell_type": "code",
   "execution_count": 9,
   "id": "guided-short",
   "metadata": {},
   "outputs": [
    {
     "data": {
      "text/plain": [
       "array([[ 1.0000e+00,  0.0000e+00,  0.0000e+00, ...,  0.0000e+00,\n",
       "         0.0000e+00,  0.0000e+00],\n",
       "       [-4.2769e-03,  2.5230e-01,  0.0000e+00, ...,  0.0000e+00,\n",
       "         0.0000e+00,  0.0000e+00],\n",
       "       [-1.3340e-03,  0.0000e+00,  1.0000e+00, ...,  0.0000e+00,\n",
       "        -1.2660e-01, -1.2660e-01],\n",
       "       ...,\n",
       "       [ 0.0000e+00,  0.0000e+00,  0.0000e+00, ...,  0.0000e+00,\n",
       "         0.0000e+00,  0.0000e+00],\n",
       "       [ 0.0000e+00,  0.0000e+00,  0.0000e+00, ..., -2.0600e+01,\n",
       "         0.0000e+00,  0.0000e+00],\n",
       "       [ 0.0000e+00,  0.0000e+00,  0.0000e+00, ...,  0.0000e+00,\n",
       "        -2.2700e+01,  1.0000e+00]])"
      ]
     },
     "execution_count": 9,
     "metadata": {},
     "output_type": "execute_result"
    }
   ],
   "source": [
    "techMat1"
   ]
  },
  {
   "cell_type": "code",
   "execution_count": 10,
   "id": "discrete-blues",
   "metadata": {},
   "outputs": [
    {
     "data": {
      "text/plain": [
       "(42, 42)"
      ]
     },
     "execution_count": 10,
     "metadata": {},
     "output_type": "execute_result"
    }
   ],
   "source": [
    "techMat1.shape"
   ]
  },
  {
   "cell_type": "code",
   "execution_count": 11,
   "id": "cellular-local",
   "metadata": {},
   "outputs": [],
   "source": [
    "techMat1_inv = np.linalg.inv(techMat1)"
   ]
  },
  {
   "cell_type": "code",
   "execution_count": 12,
   "id": "favorite-variable",
   "metadata": {},
   "outputs": [
    {
     "data": {
      "text/plain": [
       "array([[ 1.00000000e+00,  0.00000000e+00,  0.00000000e+00, ...,\n",
       "         0.00000000e+00,  0.00000000e+00,  0.00000000e+00],\n",
       "       [ 1.72453308e-02,  3.97330906e+00,  8.45625242e-03, ...,\n",
       "         2.89501228e-02,  3.97422191e+00, -1.52694913e-03],\n",
       "       [ 1.34955038e-03,  2.43136572e-03,  1.00002145e+00, ...,\n",
       "         1.20875972e-03,  3.08768810e-02, -5.44642469e-05],\n",
       "       ...,\n",
       "       [ 3.57879943e-10,  5.27431148e-08,  4.57471609e-10, ...,\n",
       "         2.95402703e-08,  5.31407029e-08, -1.02065021e-09],\n",
       "       [ 2.30762752e-09,  3.40090205e-07,  2.94979950e-09, ...,\n",
       "         1.90477120e-07,  3.42653874e-07, -4.21948667e-02],\n",
       "       [ 5.23831448e-08,  7.72004766e-06,  6.69604486e-08, ...,\n",
       "         4.32383062e-06,  7.77824293e-06,  4.21765248e-02]])"
      ]
     },
     "execution_count": 12,
     "metadata": {},
     "output_type": "execute_result"
    }
   ],
   "source": [
    "techMat1_inv"
   ]
  },
  {
   "cell_type": "code",
   "execution_count": null,
   "id": "independent-bracket",
   "metadata": {},
   "outputs": [],
   "source": []
  }
 ],
 "metadata": {
  "kernelspec": {
   "display_name": "Python 3",
   "language": "python",
   "name": "python3"
  },
  "language_info": {
   "codemirror_mode": {
    "name": "ipython",
    "version": 3
   },
   "file_extension": ".py",
   "mimetype": "text/x-python",
   "name": "python",
   "nbconvert_exporter": "python",
   "pygments_lexer": "ipython3",
   "version": "3.9.1"
  }
 },
 "nbformat": 4,
 "nbformat_minor": 5
}
