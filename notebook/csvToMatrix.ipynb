{
 "cells": [
  {
   "cell_type": "code",
   "execution_count": 78,
   "id": "cellular-salmon",
   "metadata": {},
   "outputs": [],
   "source": [
    "from pathlib import Path\n",
    "\n",
    "import pandas as pd\n",
    "import numpy as np\n",
    "import csv"
   ]
  },
  {
   "cell_type": "code",
   "execution_count": 79,
   "id": "vital-grocery",
   "metadata": {},
   "outputs": [],
   "source": [
    "try:\n",
    "    import common\n",
    "    DATA = common.dataDirectory()\n",
    "except ImportError:\n",
    "    DATA = Path().resolve() / 'data'"
   ]
  },
  {
   "cell_type": "code",
   "execution_count": 80,
   "id": "bearing-present",
   "metadata": {},
   "outputs": [
    {
     "name": "stdout",
     "output_type": "stream",
     "text": [
      "hw6_fd_q2.csv\n",
      "hw6_fd_q5.csv\n",
      "hw6_init_matrix.csv\n",
      "hw6_inv_matrix.csv\n",
      "hw6_tech_matrix.csv\n"
     ]
    }
   ],
   "source": [
    "for entry in DATA.iterdir():\n",
    "    if entry.is_file():\n",
    "        print(entry.name)"
   ]
  },
  {
   "cell_type": "code",
   "execution_count": 67,
   "id": "arranged-bidder",
   "metadata": {},
   "outputs": [],
   "source": []
  },
  {
   "cell_type": "code",
   "execution_count": null,
   "id": "environmental-northern",
   "metadata": {},
   "outputs": [],
   "source": []
  },
  {
   "cell_type": "code",
   "execution_count": null,
   "id": "electric-basics",
   "metadata": {},
   "outputs": [],
   "source": []
  },
  {
   "cell_type": "code",
   "execution_count": null,
   "id": "molecular-swedish",
   "metadata": {},
   "outputs": [],
   "source": []
  },
  {
   "cell_type": "code",
   "execution_count": null,
   "id": "suitable-breed",
   "metadata": {},
   "outputs": [],
   "source": []
  },
  {
   "cell_type": "code",
   "execution_count": 95,
   "id": "ranging-wright",
   "metadata": {},
   "outputs": [],
   "source": [
    "techMat_csv = DATA / 'hw6_tech_matrix.csv'\n",
    "fdQ2_csv = DATA / 'hw6_fd_q2.csv'\n",
    "fdQ5_csv = DATA / 'hw6_fd_q5.csv'"
   ]
  },
  {
   "cell_type": "code",
   "execution_count": 96,
   "id": "confident-planner",
   "metadata": {},
   "outputs": [],
   "source": [
    "techMat = pd.read_csv(techMat_csv)\n",
    "fdQ2 = pd.read_csv(fdQ2_csv)\n",
    "fdQ5= pd.read_csv(fdQ5_csv)"
   ]
  },
  {
   "cell_type": "code",
   "execution_count": 88,
   "id": "ultimate-zimbabwe",
   "metadata": {},
   "outputs": [
    {
     "ename": "IndentationError",
     "evalue": "unexpected indent (<ipython-input-88-3842412a8319>, line 5)",
     "output_type": "error",
     "traceback": [
      "\u001b[1;36m  File \u001b[1;32m\"<ipython-input-88-3842412a8319>\"\u001b[1;36m, line \u001b[1;32m5\u001b[0m\n\u001b[1;33m    '''\u001b[0m\n\u001b[1;37m    ^\u001b[0m\n\u001b[1;31mIndentationError\u001b[0m\u001b[1;31m:\u001b[0m unexpected indent\n"
     ]
    }
   ],
   "source": [
    "'''\n",
    "def csvToMatrix(fileName):\n",
    "    '''\n",
    "    #csvToMatrix is used to convert csv file used in LCA to matrix ready to process for next level\n",
    "    '''\n",
    "    #ileName = DATA / fileName+'.csv'\n",
    "    #fileName = pd.read_csv(fileName)\n",
    "    \n",
    "    pd.DataFrame(fileName).fillna(0)\n",
    "    print(f'Any NaN available in this file? {fileName.isnull().values.any()}')\n",
    "    fileName.replace(r'^([A-Za-z]|[0-9]|_)+$', np.NaN, regex=True)\n",
    "    fileName.dropna(axis='columns')\n",
    "    #fileName = fileName.to_numpy(dtype=float, na_value=0)\n",
    "    '''"
   ]
  },
  {
   "cell_type": "code",
   "execution_count": 90,
   "id": "confidential-monte",
   "metadata": {},
   "outputs": [],
   "source": [
    "#csvToMatrix(techMat)\n",
    "#techMat"
   ]
  },
  {
   "cell_type": "code",
   "execution_count": 97,
   "id": "electoral-coating",
   "metadata": {},
   "outputs": [
    {
     "name": "stdout",
     "output_type": "stream",
     "text": [
      "Any NaN available in this file? True\n"
     ]
    }
   ],
   "source": [
    "print(f'Any NaN available in this file? {techMat.isnull().values.any()}')"
   ]
  },
  {
   "cell_type": "code",
   "execution_count": 98,
   "id": "monthly-community",
   "metadata": {},
   "outputs": [],
   "source": [
    "techMat = pd.DataFrame(techMat).fillna(0)"
   ]
  },
  {
   "cell_type": "code",
   "execution_count": 99,
   "id": "proof-swedish",
   "metadata": {},
   "outputs": [],
   "source": [
    "techMat1 = techMat.apply(pd.to_numeric, errors='coerce').dropna(axis='columns').to_numpy(dtype=float, na_value=0)"
   ]
  },
  {
   "cell_type": "code",
   "execution_count": 100,
   "id": "strong-notebook",
   "metadata": {},
   "outputs": [
    {
     "data": {
      "text/plain": [
       "array([[ 1.0000e+00,  0.0000e+00,  0.0000e+00, ...,  0.0000e+00,\n",
       "         0.0000e+00,  0.0000e+00],\n",
       "       [-4.2769e-03,  2.5230e-01,  0.0000e+00, ...,  0.0000e+00,\n",
       "         0.0000e+00,  0.0000e+00],\n",
       "       [-1.3340e-03,  0.0000e+00,  1.0000e+00, ...,  0.0000e+00,\n",
       "         0.0000e+00, -1.2660e-01],\n",
       "       ...,\n",
       "       [ 0.0000e+00,  0.0000e+00,  0.0000e+00, ...,  1.0000e+00,\n",
       "         0.0000e+00,  0.0000e+00],\n",
       "       [ 0.0000e+00,  0.0000e+00,  0.0000e+00, ...,  0.0000e+00,\n",
       "         1.0000e+00,  0.0000e+00],\n",
       "       [ 0.0000e+00,  0.0000e+00,  0.0000e+00, ...,  0.0000e+00,\n",
       "        -2.2700e+01,  1.0000e+00]])"
      ]
     },
     "execution_count": 100,
     "metadata": {},
     "output_type": "execute_result"
    }
   ],
   "source": [
    "techMat1"
   ]
  },
  {
   "cell_type": "code",
   "execution_count": 101,
   "id": "knowing-franchise",
   "metadata": {},
   "outputs": [
    {
     "data": {
      "text/plain": [
       "(42, 42)"
      ]
     },
     "execution_count": 101,
     "metadata": {},
     "output_type": "execute_result"
    }
   ],
   "source": [
    "techMat1.shape"
   ]
  },
  {
   "cell_type": "code",
   "execution_count": 102,
   "id": "accessory-enlargement",
   "metadata": {},
   "outputs": [],
   "source": [
    "techMat1_inv = np.linalg.inv(techMat1)"
   ]
  },
  {
   "cell_type": "code",
   "execution_count": 103,
   "id": "pacific-state",
   "metadata": {},
   "outputs": [
    {
     "data": {
      "text/plain": [
       "array([[ 1.00000000e+00,  0.00000000e+00,  0.00000000e+00, ...,\n",
       "         0.00000000e+00,  0.00000000e+00,  0.00000000e+00],\n",
       "       [-1.18035165e-18,  2.02527384e-20,  7.23590562e-19, ...,\n",
       "         4.69056842e-16, -6.59251402e-14,  1.00524900e-17],\n",
       "       [-2.88338335e+00, -7.19712613e+02, -3.00229781e+00, ...,\n",
       "        -1.06337645e+01,  4.10563866e+04, -5.37698112e+00],\n",
       "       ...,\n",
       "       [-3.37445387e-07, -8.44698881e-05, -4.69734228e-07, ...,\n",
       "         1.00036116e+00,  2.69487744e-02, -8.55738781e-07],\n",
       "       [-3.77705976e-08, -9.45479854e-06, -5.25778190e-08, ...,\n",
       "        -1.07339748e-07,  1.00301640e+00, -9.57836923e-08],\n",
       "       [-8.57392566e-07, -2.14623927e-04, -1.19351649e-06, ...,\n",
       "        -2.43661227e-06,  2.27684724e+01,  9.99997826e-01]])"
      ]
     },
     "execution_count": 103,
     "metadata": {},
     "output_type": "execute_result"
    }
   ],
   "source": [
    "techMat1_inv"
   ]
  },
  {
   "cell_type": "code",
   "execution_count": null,
   "id": "manufactured-hypothesis",
   "metadata": {},
   "outputs": [],
   "source": []
  }
 ],
 "metadata": {
  "kernelspec": {
   "display_name": "Python 3",
   "language": "python",
   "name": "python3"
  },
  "language_info": {
   "codemirror_mode": {
    "name": "ipython",
    "version": 3
   },
   "file_extension": ".py",
   "mimetype": "text/x-python",
   "name": "python",
   "nbconvert_exporter": "python",
   "pygments_lexer": "ipython3",
   "version": "3.9.1"
  }
 },
 "nbformat": 4,
 "nbformat_minor": 5
}
