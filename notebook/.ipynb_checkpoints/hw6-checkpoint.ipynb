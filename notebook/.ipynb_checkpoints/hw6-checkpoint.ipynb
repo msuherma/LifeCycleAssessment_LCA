{
 "cells": [
  {
   "cell_type": "code",
   "execution_count": null,
   "metadata": {},
   "outputs": [],
   "source": [
    "\n"
   ]
  },
  {
   "cell_type": "code",
   "execution_count": 34,
   "metadata": {},
   "outputs": [],
   "source": [
    "from pathlib import Path\n",
    "\n",
    "import pandas as pd\n",
    "import numpy as np"
   ]
  },
  {
   "cell_type": "code",
   "execution_count": 43,
   "metadata": {},
   "outputs": [],
   "source": [
    "try:\n",
    "    import common\n",
    "    DATA = common.dataDirectory()\n",
    "except ImportError:\n",
    "    DATA = Path().resolve() / 'data'"
   ]
  },
  {
   "cell_type": "code",
   "execution_count": 44,
   "metadata": {},
   "outputs": [
    {
     "name": "stdout",
     "output_type": "stream",
     "text": [
      "hw6_fd_q2.csv\n",
      "hw6_fd_q5.csv\n",
      "hw6_init_matrix.csv\n",
      "hw6_inv_matrix.csv\n",
      "hw6_tech_matrix.csv\n",
      "interv_mat.csv\n"
     ]
    }
   ],
   "source": [
    "for entry in DATA.iterdir():\n",
    "    if entry.is_file():\n",
    "        print(entry.name)"
   ]
  },
  {
   "cell_type": "code",
   "execution_count": 58,
   "metadata": {},
   "outputs": [],
   "source": [
    "techMat_csv = DATA / 'hw6_tech_matrix.csv'\n",
    "fdQ2_csv = DATA / 'hw6_fd_q2.csv'\n",
    "fdQ5_csv = DATA / 'hw6_fd_q5.csv'\n",
    "intervMat_csv= DATA / 'interv_mat.csv'"
   ]
  },
  {
   "cell_type": "code",
   "execution_count": 59,
   "metadata": {},
   "outputs": [],
   "source": [
    "techMat = pd.read_csv(techMat_csv)\n",
    "fdQ2 = pd.read_csv(fdQ2_csv)\n",
    "fdQ5= pd.read_csv(fdQ5_csv)\n",
    "intervMat = pd.read_csv(intervMat_csv)"
   ]
  },
  {
   "cell_type": "code",
   "execution_count": 60,
   "metadata": {},
   "outputs": [
    {
     "data": {
      "text/html": [
       "<div>\n",
       "<style scoped>\n",
       "    .dataframe tbody tr th:only-of-type {\n",
       "        vertical-align: middle;\n",
       "    }\n",
       "\n",
       "    .dataframe tbody tr th {\n",
       "        vertical-align: top;\n",
       "    }\n",
       "\n",
       "    .dataframe thead th {\n",
       "        text-align: right;\n",
       "    }\n",
       "</style>\n",
       "<table border=\"1\" class=\"dataframe\">\n",
       "  <thead>\n",
       "    <tr style=\"text-align: right;\">\n",
       "      <th></th>\n",
       "      <th>Intervension Matrix</th>\n",
       "      <th>Unnamed: 1</th>\n",
       "      <th>Unnamed: 2</th>\n",
       "      <th>Unnamed: 3</th>\n",
       "      <th>Unnamed: 4</th>\n",
       "      <th>Unnamed: 5</th>\n",
       "      <th>Unnamed: 6</th>\n",
       "      <th>Unnamed: 7</th>\n",
       "      <th>Unnamed: 8</th>\n",
       "      <th>Unnamed: 9</th>\n",
       "      <th>...</th>\n",
       "      <th>Unnamed: 33</th>\n",
       "      <th>Unnamed: 34</th>\n",
       "      <th>Unnamed: 35</th>\n",
       "      <th>Unnamed: 36</th>\n",
       "      <th>Unnamed: 37</th>\n",
       "      <th>Unnamed: 38</th>\n",
       "      <th>Unnamed: 39</th>\n",
       "      <th>Unnamed: 40</th>\n",
       "      <th>Unnamed: 41</th>\n",
       "      <th>Unnamed: 42</th>\n",
       "    </tr>\n",
       "  </thead>\n",
       "  <tbody>\n",
       "    <tr>\n",
       "      <th>0</th>\n",
       "      <td>CH4</td>\n",
       "      <td>kg</td>\n",
       "      <td>4.675000e-07</td>\n",
       "      <td>0.000004</td>\n",
       "      <td>0</td>\n",
       "      <td>0</td>\n",
       "      <td>0</td>\n",
       "      <td>0</td>\n",
       "      <td>9.048900e-07</td>\n",
       "      <td>0.0053</td>\n",
       "      <td>...</td>\n",
       "      <td>0</td>\n",
       "      <td>0.000009</td>\n",
       "      <td>0.000001</td>\n",
       "      <td>0.00140</td>\n",
       "      <td>0.003400</td>\n",
       "      <td>0.00399</td>\n",
       "      <td>0.004567</td>\n",
       "      <td>0.00014</td>\n",
       "      <td>0.0</td>\n",
       "      <td>0.000115</td>\n",
       "    </tr>\n",
       "    <tr>\n",
       "      <th>1</th>\n",
       "      <td>CO2</td>\n",
       "      <td>kg</td>\n",
       "      <td>1.109000e-02</td>\n",
       "      <td>0.000028</td>\n",
       "      <td>0</td>\n",
       "      <td>0</td>\n",
       "      <td>0</td>\n",
       "      <td>0</td>\n",
       "      <td>1.895000e-02</td>\n",
       "      <td>0.0011</td>\n",
       "      <td>...</td>\n",
       "      <td>0</td>\n",
       "      <td>0.804600</td>\n",
       "      <td>0.079879</td>\n",
       "      <td>0.03906</td>\n",
       "      <td>0.016999</td>\n",
       "      <td>0.00000</td>\n",
       "      <td>0.000139</td>\n",
       "      <td>1.96190</td>\n",
       "      <td>29.4</td>\n",
       "      <td>2.633900</td>\n",
       "    </tr>\n",
       "    <tr>\n",
       "      <th>2</th>\n",
       "      <td>N2O</td>\n",
       "      <td>kg</td>\n",
       "      <td>5.296000e-08</td>\n",
       "      <td>0.000000</td>\n",
       "      <td>0</td>\n",
       "      <td>0</td>\n",
       "      <td>0</td>\n",
       "      <td>0</td>\n",
       "      <td>4.746000e-07</td>\n",
       "      <td>0.0000</td>\n",
       "      <td>...</td>\n",
       "      <td>0</td>\n",
       "      <td>0.000004</td>\n",
       "      <td>0.000002</td>\n",
       "      <td>0.00000</td>\n",
       "      <td>0.000000</td>\n",
       "      <td>0.00000</td>\n",
       "      <td>0.000000</td>\n",
       "      <td>0.00000</td>\n",
       "      <td>0.0</td>\n",
       "      <td>0.000368</td>\n",
       "    </tr>\n",
       "  </tbody>\n",
       "</table>\n",
       "<p>3 rows × 43 columns</p>\n",
       "</div>"
      ],
      "text/plain": [
       "  Intervension Matrix Unnamed: 1    Unnamed: 2  Unnamed: 3  Unnamed: 4  \\\n",
       "0                 CH4         kg  4.675000e-07    0.000004           0   \n",
       "1                 CO2         kg  1.109000e-02    0.000028           0   \n",
       "2                 N2O         kg  5.296000e-08    0.000000           0   \n",
       "\n",
       "   Unnamed: 5  Unnamed: 6  Unnamed: 7    Unnamed: 8  Unnamed: 9  ...  \\\n",
       "0           0           0           0  9.048900e-07      0.0053  ...   \n",
       "1           0           0           0  1.895000e-02      0.0011  ...   \n",
       "2           0           0           0  4.746000e-07      0.0000  ...   \n",
       "\n",
       "   Unnamed: 33  Unnamed: 34  Unnamed: 35  Unnamed: 36  Unnamed: 37  \\\n",
       "0            0     0.000009     0.000001      0.00140     0.003400   \n",
       "1            0     0.804600     0.079879      0.03906     0.016999   \n",
       "2            0     0.000004     0.000002      0.00000     0.000000   \n",
       "\n",
       "   Unnamed: 38  Unnamed: 39  Unnamed: 40  Unnamed: 41  Unnamed: 42  \n",
       "0      0.00399     0.004567      0.00014          0.0     0.000115  \n",
       "1      0.00000     0.000139      1.96190         29.4     2.633900  \n",
       "2      0.00000     0.000000      0.00000          0.0     0.000368  \n",
       "\n",
       "[3 rows x 43 columns]"
      ]
     },
     "execution_count": 60,
     "metadata": {},
     "output_type": "execute_result"
    }
   ],
   "source": [
    "intervMat.head(3)"
   ]
  },
  {
   "cell_type": "code",
   "execution_count": 39,
   "metadata": {},
   "outputs": [],
   "source": [
    "#np.argwhere(np.isnan(techMat_del))"
   ]
  },
  {
   "cell_type": "code",
   "execution_count": 64,
   "metadata": {},
   "outputs": [],
   "source": [
    "techMat = pd.DataFrame(techMat).fillna(0)\n",
    "techMat = techMat.apply(pd.to_numeric, errors='coerce').dropna(axis='columns').to_numpy(dtype=float,na_value=0)\n",
    "techMat_inv = np.linalg.inv(techMat)"
   ]
  },
  {
   "cell_type": "code",
   "execution_count": 66,
   "metadata": {},
   "outputs": [
    {
     "ename": "AttributeError",
     "evalue": "'numpy.ndarray' object has no attribute 'tail'",
     "output_type": "error",
     "traceback": [
      "\u001b[1;31m---------------------------------------------------------------------------\u001b[0m",
      "\u001b[1;31mAttributeError\u001b[0m                            Traceback (most recent call last)",
      "\u001b[1;32m<ipython-input-66-39227c6f062f>\u001b[0m in \u001b[0;36m<module>\u001b[1;34m\u001b[0m\n\u001b[1;32m----> 1\u001b[1;33m \u001b[0mtechMat\u001b[0m\u001b[1;33m.\u001b[0m\u001b[0mtail\u001b[0m\u001b[1;33m(\u001b[0m\u001b[1;36m2\u001b[0m\u001b[1;33m)\u001b[0m\u001b[1;33m\u001b[0m\u001b[1;33m\u001b[0m\u001b[0m\n\u001b[0m",
      "\u001b[1;31mAttributeError\u001b[0m: 'numpy.ndarray' object has no attribute 'tail'"
     ]
    }
   ],
   "source": []
  },
  {
   "cell_type": "code",
   "execution_count": 41,
   "metadata": {},
   "outputs": [],
   "source": [
    "fdQ2 = pd.DataFrame(fdQ2).fillna(0)\n",
    "fdQ2 = fdQ2.apply(pd.to_numeric, errors='coerce').dropna(axis='columns').to_numpy(dtype=float,na_value=0)"
   ]
  },
  {
   "cell_type": "code",
   "execution_count": 42,
   "metadata": {},
   "outputs": [
    {
     "data": {
      "text/plain": [
       "array([[1.00000000e+00],\n",
       "       [1.72453308e-02],\n",
       "       [1.34955038e-03],\n",
       "       [1.40775942e-03],\n",
       "       [9.42600000e-03],\n",
       "       [1.50565803e-02],\n",
       "       [2.68749589e-03],\n",
       "       [1.99349691e-03],\n",
       "       [5.94179002e-04],\n",
       "       [2.25002107e-06],\n",
       "       [9.41094199e-05],\n",
       "       [5.50937555e-05],\n",
       "       [2.97465256e-04],\n",
       "       [1.05452547e-03],\n",
       "       [1.90192915e-03],\n",
       "       [1.71173428e-02],\n",
       "       [0.00000000e+00],\n",
       "       [2.68347555e-06],\n",
       "       [0.00000000e+00],\n",
       "       [4.58439501e-05],\n",
       "       [0.00000000e+00],\n",
       "       [0.00000000e+00],\n",
       "       [0.00000000e+00],\n",
       "       [0.00000000e+00],\n",
       "       [2.87986192e-03],\n",
       "       [2.71605418e-06],\n",
       "       [1.52984941e-06],\n",
       "       [2.44498718e-04],\n",
       "       [7.39752858e-06],\n",
       "       [9.58158171e-07],\n",
       "       [1.45336184e-04],\n",
       "       [1.17766278e-04],\n",
       "       [2.09864024e-06],\n",
       "       [1.40776942e-03],\n",
       "       [1.39472312e-04],\n",
       "       [1.03335036e-04],\n",
       "       [1.08043846e-04],\n",
       "       [1.65494931e-04],\n",
       "       [2.00910847e-06],\n",
       "       [3.57879943e-10],\n",
       "       [2.30762752e-09],\n",
       "       [5.23831448e-08]])"
      ]
     },
     "execution_count": 42,
     "metadata": {},
     "output_type": "execute_result"
    }
   ],
   "source": [
    "sQ2 = np.matmul(techMat_inv, fdQ2)\n",
    "sQ2 # need to write to csv back"
   ]
  },
  {
   "cell_type": "code",
   "execution_count": 61,
   "metadata": {},
   "outputs": [],
   "source": [
    "intervMat = pd.DataFrame(intervMat).fillna(0)\n",
    "intervMat = intervMat.apply(pd.to_numeric, errors='coerce').dropna(axis='columns').to_numpy(dtype=float,na_value=0)"
   ]
  },
  {
   "cell_type": "code",
   "execution_count": 62,
   "metadata": {},
   "outputs": [
    {
     "data": {
      "text/plain": [
       "array([[4.67500e-07, 4.04445e-06, 0.00000e+00, 0.00000e+00, 0.00000e+00,\n",
       "        0.00000e+00, 9.04890e-07, 5.30000e-03, 0.00000e+00, 2.60300e-05,\n",
       "        3.60200e-05, 1.27800e-04, 6.48600e-07, 6.43300e-07, 7.29500e-07,\n",
       "        7.87400e-07, 6.87251e-07, 7.80019e-06, 1.66405e-06, 4.90028e-07,\n",
       "        1.10178e-06, 9.51279e-07, 1.84894e-05, 8.36937e-07, 9.04640e-07,\n",
       "        1.33600e-04, 9.20600e-04, 8.31200e-06, 4.85300e-06, 6.10490e-06,\n",
       "        1.07400e-05, 0.00000e+00, 8.85700e-06, 1.28790e-06, 1.39990e-03,\n",
       "        3.39990e-03, 3.99000e-03, 4.56700e-03, 1.39500e-04, 0.00000e+00,\n",
       "        1.15400e-04],\n",
       "       [1.10900e-02, 2.75027e-05, 0.00000e+00, 0.00000e+00, 0.00000e+00,\n",
       "        0.00000e+00, 1.89500e-02, 1.10000e-03, 0.00000e+00, 1.72400e+00,\n",
       "        1.96000e+00, 3.26190e+00, 2.81490e-02, 2.87100e-02, 1.44000e-02,\n",
       "        1.59800e-02, 4.67338e-06, 5.30422e-05, 1.13157e-05, 3.33224e-06,\n",
       "        7.49224e-06, 6.46880e-06, 1.25730e-04, 5.69126e-06, 6.15165e-06,\n",
       "        2.70100e+00, 2.08500e+00, 9.94090e-01, 8.43200e-01, 2.72700e+03,\n",
       "        5.84700e-01, 0.00000e+00, 8.04600e-01, 7.98790e-02, 3.90600e-02,\n",
       "        1.69990e-02, 0.00000e+00, 1.38500e-04, 1.96190e+00, 2.94000e+01,\n",
       "        2.63390e+00],\n",
       "       [5.29600e-08, 0.00000e+00, 0.00000e+00, 0.00000e+00, 0.00000e+00,\n",
       "        0.00000e+00, 4.74600e-07, 0.00000e+00, 0.00000e+00, 1.17090e-04,\n",
       "        3.60200e-05, 1.42090e-05, 0.00000e+00, 6.96590e-07, 0.00000e+00,\n",
       "        3.89290e-07, 0.00000e+00, 0.00000e+00, 0.00000e+00, 0.00000e+00,\n",
       "        0.00000e+00, 0.00000e+00, 0.00000e+00, 0.00000e+00, 0.00000e+00,\n",
       "        6.78290e-05, 6.09700e-05, 2.42300e-05, 9.31200e-06, 1.32290e-05,\n",
       "        1.07400e-05, 0.00000e+00, 3.50400e-06, 1.99300e-06, 0.00000e+00,\n",
       "        0.00000e+00, 0.00000e+00, 0.00000e+00, 0.00000e+00, 0.00000e+00,\n",
       "        3.68000e-04]])"
      ]
     },
     "execution_count": 62,
     "metadata": {},
     "output_type": "execute_result"
    }
   ],
   "source": [
    "intervMat"
   ]
  },
  {
   "cell_type": "code",
   "execution_count": 57,
   "metadata": {},
   "outputs": [
    {
     "ename": "ValueError",
     "evalue": "matmul: Input operand 1 has a mismatch in its core dimension 0, with gufunc signature (n?,k),(k,m?)->(n?,m?) (size 42 is different from 41)",
     "output_type": "error",
     "traceback": [
      "\u001b[1;31m---------------------------------------------------------------------------\u001b[0m",
      "\u001b[1;31mValueError\u001b[0m                                Traceback (most recent call last)",
      "\u001b[1;32m<ipython-input-57-31db69f00152>\u001b[0m in \u001b[0;36m<module>\u001b[1;34m\u001b[0m\n\u001b[1;32m----> 1\u001b[1;33m \u001b[0mgQ2\u001b[0m \u001b[1;33m=\u001b[0m \u001b[0mnp\u001b[0m\u001b[1;33m.\u001b[0m\u001b[0mmatmul\u001b[0m\u001b[1;33m(\u001b[0m\u001b[0mintervMat\u001b[0m\u001b[1;33m,\u001b[0m \u001b[0msQ2\u001b[0m\u001b[1;33m)\u001b[0m\u001b[1;33m\u001b[0m\u001b[1;33m\u001b[0m\u001b[0m\n\u001b[0m",
      "\u001b[1;31mValueError\u001b[0m: matmul: Input operand 1 has a mismatch in its core dimension 0, with gufunc signature (n?,k),(k,m?)->(n?,m?) (size 42 is different from 41)"
     ]
    }
   ],
   "source": [
    "gQ2 = np.matmul(intervMat, sQ2)"
   ]
  },
  {
   "cell_type": "code",
   "execution_count": 55,
   "metadata": {},
   "outputs": [
    {
     "data": {
      "text/plain": [
       "(3, 41)"
      ]
     },
     "execution_count": 55,
     "metadata": {},
     "output_type": "execute_result"
    }
   ],
   "source": [
    "intervMat.shape"
   ]
  },
  {
   "cell_type": "code",
   "execution_count": null,
   "metadata": {},
   "outputs": [],
   "source": []
  }
 ],
 "metadata": {
  "kernelspec": {
   "display_name": "Python 3",
   "language": "python",
   "name": "python3"
  },
  "language_info": {
   "codemirror_mode": {
    "name": "ipython",
    "version": 3
   },
   "file_extension": ".py",
   "mimetype": "text/x-python",
   "name": "python",
   "nbconvert_exporter": "python",
   "pygments_lexer": "ipython3",
   "version": "3.9.1"
  }
 },
 "nbformat": 4,
 "nbformat_minor": 4
}
